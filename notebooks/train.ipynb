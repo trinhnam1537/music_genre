{
 "cells": [
  {
   "cell_type": "code",
   "execution_count": 1,
   "id": "ac3b992c-b0f3-4164-a491-c9451ce62e88",
   "metadata": {},
   "outputs": [
    {
     "name": "stdout",
     "output_type": "stream",
     "text": [
      "Requirement already satisfied: findspark in /opt/conda/lib/python3.11/site-packages (2.0.1)\n"
     ]
    }
   ],
   "source": [
    "!pip install findspark"
   ]
  },
  {
   "cell_type": "code",
   "execution_count": 2,
   "id": "31b9b665-f68c-434c-a192-31977b94fe23",
   "metadata": {},
   "outputs": [
    {
     "name": "stdout",
     "output_type": "stream",
     "text": [
      "Requirement already satisfied: pyspark in /usr/local/spark/python (3.4.0)\n",
      "Requirement already satisfied: py4j==0.10.9.7 in /opt/conda/lib/python3.11/site-packages (from pyspark) (0.10.9.7)\n"
     ]
    }
   ],
   "source": [
    "!pip install pyspark\n"
   ]
  },
  {
   "cell_type": "code",
   "execution_count": 3,
   "id": "fcf1429f-c68d-4bfa-9d9f-a1d308aa8b95",
   "metadata": {},
   "outputs": [
    {
     "name": "stdout",
     "output_type": "stream",
     "text": [
      "3.4.0\n"
     ]
    }
   ],
   "source": [
    "import pyspark\n",
    "\n",
    "print(pyspark.__version__)"
   ]
  },
  {
   "cell_type": "code",
   "execution_count": 4,
   "id": "4f706b43-213a-411f-87f4-fc66386aae6a",
   "metadata": {},
   "outputs": [],
   "source": [
    "def warn(*args, **kwargs):\n",
    "    pass\n",
    "import warnings\n",
    "warnings.warn = warn\n",
    "warnings.filterwarnings('ignore')\n",
    "import findspark\n",
    "findspark.init()"
   ]
  },
  {
   "cell_type": "code",
   "execution_count": 5,
   "id": "b2b56fc9-cfe3-4f6d-bfff-bad3d8f288b7",
   "metadata": {},
   "outputs": [
    {
     "name": "stdout",
     "output_type": "stream",
     "text": [
      "3.4.0\n"
     ]
    }
   ],
   "source": [
    "\n",
    "from pyspark.sql import SparkSession\n",
    "\n",
    "# Khởi tạo SparkSession\n",
    "spark = SparkSession.builder.appName(\"model\").master(\"spark://spark-master:7077\").getOrCreate()\n",
    "print(spark.version)"
   ]
  },
  {
   "cell_type": "code",
   "execution_count": 6,
   "id": "f9d36f9f-c1b0-4b38-8031-a15692d3ecc0",
   "metadata": {},
   "outputs": [
    {
     "name": "stdout",
     "output_type": "stream",
     "text": [
      "+-----------------+--------------------+----------+------------+------+---+----+-------+--------------+-----+-----------------+----------------+--------------------+-------------------+------------------+------------------+----------------------+-------------------+-----------------+\n",
      "|      artist_name|          track_name|popularity|danceability|energy|key|mode|valence|time_signature|class|artist_name_index|track_name_index|duration_in_ms_trans|     loudness_trans| speechiness_trans|acousticness_trans|instrumentalness_trans|     liveness_trans|      tempo_trans|\n",
      "+-----------------+--------------------+----------+------------+------+---+----+-------+--------------+-----+-----------------+----------------+--------------------+-------------------+------------------+------------------+----------------------+-------------------+-----------------+\n",
      "|   Blonde Redhead|Misery Is a Butte...|      42.0|       0.548|  0.77|9.0| 0.0|   0.41|           4.0|  6.0|           1477.0|          7946.0|   554.6773837105674|-1.8829499485007022| 38.46005922849121| 0.577899656515213|   -1.2517599716649008|-1.2344285753904323|5.244417346141915|\n",
      "|              War|Slippin' Into Dar...|      53.0|       0.676| 0.625|4.0| 0.0|  0.655|           4.0|  5.0|           8711.0|         10564.0|  476.83644994903653|-2.0604071209675023|13.717232959767355|0.5241482788417793|    -5.023568569508155| -2.530728623396641|4.497924969239073|\n",
      "|            Spoon|        The Underdog|      50.0|       0.693| 0.528|7.0| 1.0|  0.905|           4.0|  6.0|           1188.0|         12048.0|  471.28229332322684| -2.214164801880852|27.396509684666174|0.4148579375363552|    -6.501623726330812|   -0.3989846516986|5.255483311076091|\n",
      "|  Sarah de Warren|Flow (Acoustic Ve...|      41.0|       0.748|  0.41|7.0| 0.0|   0.86|           4.0|  9.0|           7437.0|          4522.0|  437.03546766824314| -2.025669138212164|32.572228917624834|0.8828009924884207|   -10.381523353479128|  -2.17154805869629| 4.64183637181567|\n",
      "|◊ê◊ë◊ô◊ë ◊û◊ê◊®◊ß|◊ú◊ô◊ú◊î ◊©◊ú ◊®◊...|       4.0|         0.4| 0.723|2.0| 1.0|  0.201|           4.0|  6.0|           9137.0|         14923.0|   427.9766348762512|-1.9728840233837328|15.974185715883133|0.7040580616713472|    -6.691837772759667|-1.3280216794181292|5.692624090408906|\n",
      "+-----------------+--------------------+----------+------------+------+---+----+-------+--------------+-----+-----------------+----------------+--------------------+-------------------+------------------+------------------+----------------------+-------------------+-----------------+\n",
      "only showing top 5 rows\n",
      "\n"
     ]
    }
   ],
   "source": [
    "df = spark.read.csv(\"hdfs://namenode:9000/data/train_processed.csv\", header=True, inferSchema=True)\n",
    "df.show(5)"
   ]
  },
  {
   "cell_type": "code",
   "execution_count": 7,
   "id": "33f8f2c6-408e-4963-a0da-e66196e374a9",
   "metadata": {},
   "outputs": [
    {
     "data": {
      "text/plain": [
       "DataFrame[artist_name: string, track_name: string, popularity: double, danceability: double, energy: double, key: double, mode: double, valence: double, time_signature: double, class: double, artist_name_index: double, track_name_index: double, duration_in_ms_trans: double, loudness_trans: double, speechiness_trans: double, acousticness_trans: double, instrumentalness_trans: double, liveness_trans: double, tempo_trans: double]"
      ]
     },
     "execution_count": 7,
     "metadata": {},
     "output_type": "execute_result"
    }
   ],
   "source": [
    "df.cache()"
   ]
  },
  {
   "cell_type": "code",
   "execution_count": 8,
   "id": "c06548ed-43d0-40bc-8c15-ab2c1f2aa09c",
   "metadata": {},
   "outputs": [
    {
     "name": "stdout",
     "output_type": "stream",
     "text": [
      "root\n",
      " |-- artist_name: string (nullable = true)\n",
      " |-- track_name: string (nullable = true)\n",
      " |-- popularity: double (nullable = true)\n",
      " |-- danceability: double (nullable = true)\n",
      " |-- energy: double (nullable = true)\n",
      " |-- key: double (nullable = true)\n",
      " |-- mode: double (nullable = true)\n",
      " |-- valence: double (nullable = true)\n",
      " |-- time_signature: double (nullable = true)\n",
      " |-- class: double (nullable = true)\n",
      " |-- artist_name_index: double (nullable = true)\n",
      " |-- track_name_index: double (nullable = true)\n",
      " |-- duration_in_ms_trans: double (nullable = true)\n",
      " |-- loudness_trans: double (nullable = true)\n",
      " |-- speechiness_trans: double (nullable = true)\n",
      " |-- acousticness_trans: double (nullable = true)\n",
      " |-- instrumentalness_trans: double (nullable = true)\n",
      " |-- liveness_trans: double (nullable = true)\n",
      " |-- tempo_trans: double (nullable = true)\n",
      "\n"
     ]
    }
   ],
   "source": [
    "df.printSchema()"
   ]
  },
  {
   "cell_type": "code",
   "execution_count": 9,
   "id": "b598ca25-298c-4c4b-92cc-ad9a4db3d2c1",
   "metadata": {},
   "outputs": [
    {
     "name": "stdout",
     "output_type": "stream",
     "text": [
      "+-----+-----+\n",
      "|class|count|\n",
      "+-----+-----+\n",
      "|  4.0|  387|\n",
      "|  3.0|  402|\n",
      "|  7.0|  574|\n",
      "|  0.0|  625|\n",
      "|  1.0|  951|\n",
      "|  2.0| 1220|\n",
      "|  5.0| 1409|\n",
      "|  8.0| 1738|\n",
      "|  6.0| 2152|\n",
      "|  9.0| 2392|\n",
      "| 10.0| 4468|\n",
      "+-----+-----+\n",
      "\n"
     ]
    }
   ],
   "source": [
    "from pyspark.ml.feature import StringIndexer\n",
    "df=df.drop(\"artist_name\",\"track_name\",\"artist_name_index\",\"track_name_index\",\"energy\")\n",
    "\n",
    "df.groupBy(\"class\").count().orderBy(\"count\").show()\n"
   ]
  },
  {
   "cell_type": "code",
   "execution_count": 10,
   "id": "c1de477d-2719-4b39-914e-6ca109e2564e",
   "metadata": {},
   "outputs": [],
   "source": [
    "from pyspark.ml.feature import VectorAssembler, StandardScaler \n",
    "from pyspark.ml.classification import GBTClassifier\n",
    "from pyspark.ml.evaluation import MulticlassClassificationEvaluator\n",
    "from pyspark.sql.functions import col\n",
    "from pyspark.ml.classification import RandomForestClassificationModel\n",
    "feature_cols = [col for col in df.columns if col not in \"class\"]\n",
    "assembler = VectorAssembler(inputCols=feature_cols, outputCol=\"features_unscaled\")\n",
    "df_vec = assembler.transform(df)\n",
    "scaler = StandardScaler(inputCol=\"features_unscaled\",outputCol=\"features\",withStd=True,withMean=True)\n",
    "scaler_model=scaler.fit(df_vec)\n",
    "df_scaled = scaler_model.transform(df_vec)"
   ]
  },
  {
   "cell_type": "code",
   "execution_count": 11,
   "id": "b9b10e4b-41e4-46d1-b823-4618a925a86f",
   "metadata": {},
   "outputs": [
    {
     "data": {
      "text/plain": [
       "DataFrame[popularity: double, danceability: double, key: double, mode: double, valence: double, time_signature: double, class: double, duration_in_ms_trans: double, loudness_trans: double, speechiness_trans: double, acousticness_trans: double, instrumentalness_trans: double, liveness_trans: double, tempo_trans: double, features_unscaled: vector, features: vector]"
      ]
     },
     "execution_count": 11,
     "metadata": {},
     "output_type": "execute_result"
    }
   ],
   "source": [
    "(training_data, testing_data) = df_scaled.randomSplit([0.7, 0.3], seed=42)\n",
    "training_data.cache()"
   ]
  },
  {
   "cell_type": "code",
   "execution_count": 12,
   "id": "1a544cbd-63db-46f7-824b-12dbf77a5b36",
   "metadata": {},
   "outputs": [],
   "source": [
    "from pyspark.ml.classification import RandomForestClassifier\n",
    "\n",
    "rf = RandomForestClassifier(\n",
    "    labelCol=\"class\",\n",
    "    featuresCol=\"features\",\n",
    "    numTrees=90,\n",
    "    maxDepth=10,\n",
    "    seed=42\n",
    ")\n",
    "rf_model = rf.fit(training_data)\n",
    "rf_predictions = rf_model.transform(testing_data)"
   ]
  },
  {
   "cell_type": "code",
   "execution_count": 13,
   "id": "af714b41-daef-495b-a731-d45fe4a70a94",
   "metadata": {},
   "outputs": [
    {
     "name": "stdout",
     "output_type": "stream",
     "text": [
      "Random Forest Accuracy = 0.48414023372287146\n"
     ]
    }
   ],
   "source": [
    "from pyspark.ml.evaluation import MulticlassClassificationEvaluator\n",
    "rf_evaluator = MulticlassClassificationEvaluator(\n",
    "    labelCol=\"class\", \n",
    "    predictionCol=\"prediction\", \n",
    "    metricName=\"accuracy\"\n",
    ")\n",
    "rf_accuracy = rf_evaluator.evaluate(rf_predictions)\n",
    "print(f\"Random Forest Accuracy = {rf_accuracy}\")\n"
   ]
  },
  {
   "cell_type": "code",
   "execution_count": 14,
   "id": "e94f9398-2a6b-41a0-bdef-206d0257c685",
   "metadata": {},
   "outputs": [],
   "source": [
    "model_path = \"hdfs://namenode:9000/model/random_forest_model\"\n",
    "rf_model.save(model_path)"
   ]
  },
  {
   "cell_type": "code",
   "execution_count": 15,
   "id": "3e14926c-93e4-4026-a3f3-98d4e7c82db0",
   "metadata": {},
   "outputs": [],
   "source": [
    "from pyspark.ml.classification import RandomForestClassifier, LogisticRegression, LinearSVC, NaiveBayes, OneVsRest\n",
    "from pyspark.ml.evaluation import MulticlassClassificationEvaluator\n",
    "from pyspark.ml.tuning import ParamGridBuilder, CrossValidator\n",
    "from pyspark.ml.classification import  MultilayerPerceptronClassifier\n"
   ]
  },
  {
   "cell_type": "code",
   "execution_count": 16,
   "id": "577937a3-9eb5-42e9-914e-a6eb5bb18363",
   "metadata": {},
   "outputs": [
    {
     "name": "stdout",
     "output_type": "stream",
     "text": [
      "+----------+------------+----+----+-------+--------------+-----+--------------------+-------------------+------------------+-------------------+----------------------+-------------------+------------------+--------------------+--------------------+\n",
      "|popularity|danceability| key|mode|valence|time_signature|class|duration_in_ms_trans|     loudness_trans| speechiness_trans| acousticness_trans|instrumentalness_trans|     liveness_trans|       tempo_trans|   features_unscaled|            features|\n",
      "+----------+------------+----+----+-------+--------------+-----+--------------------+-------------------+------------------+-------------------+----------------------+-------------------+------------------+--------------------+--------------------+\n",
      "|       1.0|      0.0921| 7.0| 1.0|  0.039|           3.0|  7.0|   414.8734747124718|-3.1700990790581587|19.492797411356506| 0.9802803584934617|  -0.06187433988886...|-1.6347505922264112| 5.506647609471016|[1.0,0.0921,7.0,1...|[-2.4929400558154...|\n",
      "|       1.0|       0.182| 4.0| 0.0|  0.205|           3.0| 10.0|   515.1698748956503|-1.9866612364659968| 33.00221114814693| 0.6291194551556287|   -1.5945443738441085|-1.6820032289393023| 5.413216369435797|[1.0,0.182,4.0,0....|[-2.4929400558154...|\n",
      "|       1.0|        0.22| 2.0| 1.0|  0.262|           4.0|  9.0|  496.66890377795954|-1.9120198290457109| 30.21056765656627|  0.395149758948387|    -5.551662426595367| -2.479310338391075| 5.645452785299141|[1.0,0.22,2.0,1.0...|[-2.4929400558154...|\n",
      "|       1.0|       0.269|11.0| 1.0|  0.136|           4.0| 10.0|   734.5018720193979|-1.9758768738810688| 23.58434942572109| 0.5277632087904076|    -3.932174693638999|-1.4312875429589613|4.4853349762048325|[1.0,0.269,11.0,1...|[-2.4929400558154...|\n",
      "|       1.0|       0.276| 6.0| 0.0|  0.309|           4.0|  0.0|     611.69028109003|-1.8797479668174815|28.408283855572282|0.12986178604402843|   -10.008848068193954|-1.9241418079821886| 4.337600661512398|[1.0,0.276,6.0,0....|[-2.4929400558154...|\n",
      "+----------+------------+----+----+-------+--------------+-----+--------------------+-------------------+------------------+-------------------+----------------------+-------------------+------------------+--------------------+--------------------+\n",
      "only showing top 5 rows\n",
      "\n"
     ]
    }
   ],
   "source": [
    "training_data.show(5)"
   ]
  },
  {
   "cell_type": "code",
   "execution_count": 17,
   "id": "5ed00085-0f9f-47ea-985c-f629d69f6110",
   "metadata": {},
   "outputs": [
    {
     "name": "stdout",
     "output_type": "stream",
     "text": [
      "MLP Accuracy = 0.46389816360601\n"
     ]
    }
   ],
   "source": [
    "num_features = len(training_data.select(\"features\").first()[0])\n",
    "\n",
    "num_classes = training_data.select(\"class\").distinct().count()\n",
    "\n",
    "\n",
    "layers = [num_features, 64, 32, num_classes]\n",
    "\n",
    "mlp = MultilayerPerceptronClassifier(\n",
    "    labelCol=\"class\",\n",
    "    featuresCol=\"features\",\n",
    "    layers=layers,\n",
    "    maxIter=100,\n",
    "    blockSize=128,\n",
    "    seed=42\n",
    ")\n",
    "mlp_eva = MulticlassClassificationEvaluator(\n",
    "    labelCol=\"class\", \n",
    "    predictionCol=\"prediction\", \n",
    "    metricName=\"accuracy\"\n",
    ")\n",
    "mlp_model = mlp.fit(training_data)\n",
    "mlp_predictions = mlp_model.transform(testing_data)\n",
    "mlp_accuracy = mlp_eva.evaluate(mlp_predictions)\n",
    "print(f\"MLP Accuracy = {mlp_accuracy}\")"
   ]
  },
  {
   "cell_type": "code",
   "execution_count": 18,
   "id": "5cb7380e-5d38-4bdd-bed4-0c417c6e640d",
   "metadata": {},
   "outputs": [],
   "source": [
    "model_path = \"hdfs://namenode:9000/model/MLP_model\"\n",
    "mlp_model.save(model_path)"
   ]
  },
  {
   "cell_type": "code",
   "execution_count": 19,
   "id": "2cfccef6-998e-4053-899f-13fa3f03e885",
   "metadata": {},
   "outputs": [
    {
     "name": "stdout",
     "output_type": "stream",
     "text": [
      "+----------+------------+----+----+-------+--------------+-----+--------------------+-------------------+------------------+--------------------+----------------------+--------------------+------------------+--------------------+--------------------+\n",
      "|popularity|danceability| key|mode|valence|time_signature|class|duration_in_ms_trans|     loudness_trans| speechiness_trans|  acousticness_trans|instrumentalness_trans|      liveness_trans|       tempo_trans|   features_unscaled|            features|\n",
      "+----------+------------+----+----+-------+--------------+-----+--------------------+-------------------+------------------+--------------------+----------------------+--------------------+------------------+--------------------+--------------------+\n",
      "|       1.0|      0.0921| 7.0| 1.0|  0.039|           3.0|  7.0|   414.8734747124718|-3.1700990790581587|19.492797411356506|  0.9802803584934617|  -0.06187433988886...| -1.6347505922264112| 5.506647609471016|[1.0,0.0921,7.0,1...|[-2.4929400558154...|\n",
      "|       1.0|       0.182| 4.0| 0.0|  0.205|           3.0| 10.0|   515.1698748956503|-1.9866612364659968| 33.00221114814693|  0.6291194551556287|   -1.5945443738441085| -1.6820032289393023| 5.413216369435797|[1.0,0.182,4.0,0....|[-2.4929400558154...|\n",
      "|       1.0|        0.22| 2.0| 1.0|  0.262|           4.0|  9.0|  496.66890377795954|-1.9120198290457109| 30.21056765656627|   0.395149758948387|    -5.551662426595367|  -2.479310338391075| 5.645452785299141|[1.0,0.22,2.0,1.0...|[-2.4929400558154...|\n",
      "|       1.0|       0.269|11.0| 1.0|  0.136|           4.0| 10.0|   734.5018720193979|-1.9758768738810688| 23.58434942572109|  0.5277632087904076|    -3.932174693638999| -1.4312875429589613|4.4853349762048325|[1.0,0.269,11.0,1...|[-2.4929400558154...|\n",
      "|       1.0|       0.276| 6.0| 0.0|  0.309|           4.0|  0.0|     611.69028109003|-1.8797479668174815|28.408283855572282| 0.12986178604402843|   -10.008848068193954| -1.9241418079821886| 4.337600661512398|[1.0,0.276,6.0,0....|[-2.4929400558154...|\n",
      "|       1.0|       0.305| 8.0| 0.0|  0.343|           5.0|  9.0|  412.61362071555516| -2.206454871873787| 15.24367006600509|   0.961539774357182|    -11.90153345601197| -1.3743618376932583| 4.353839038353063|[1.0,0.305,8.0,0....|[-2.4929400558154...|\n",
      "|       1.0|       0.331|-1.0| 1.0|   0.13|           4.0|  9.0|   443.4715323219744|-1.6860449276870335| 31.54474622251664|  0.6502957234256935|    -5.551662426595367|  -1.093621762086899| 5.211255206745604|[1.0,0.331,-1.0,1...|[-2.4929400558154...|\n",
      "|       1.0|       0.333| 2.0| 1.0|  0.434|           3.0|  3.0|   556.2319660177757| -2.086764833692201| 20.78958857404212|  0.9781946493017497|    -5.551662426595367|  -1.402419678017386| 4.274118920595505|[1.0,0.333,2.0,1....|[-2.4929400558154...|\n",
      "|       1.0|       0.338| 4.0| 1.0|  0.201|           4.0| 10.0|   511.9062414153592|-2.3686311357939815|15.822534453568771| 0.26730748660601883|   -11.176453228349015|-0.03355574940321404| 4.978790155719888|[1.0,0.338,4.0,1....|[-2.4929400558154...|\n",
      "|       1.0|       0.371| 8.0| 1.0|  0.907|           4.0|  2.0|   384.1757410352715|-1.3897206277380494| 23.92287265854884|  0.7434993741615868|    -5.551662426595367|  -2.614546196905999| 5.049377435261909|[1.0,0.371,8.0,1....|[-2.4929400558154...|\n",
      "|       1.0|       0.371|10.0| 1.0|  0.484|           3.0|  2.0|  421.07837750233625|-1.8745450748170869| 7.142806122813408|  0.5934472140399941|    -2.334065440221226| -1.1363110405921761| 4.735598113876888|[1.0,0.371,10.0,1...|[-2.4929400558154...|\n",
      "|       1.0|       0.372|11.0| 1.0|  0.597|           4.0| 10.0|   495.2706330886175|-1.4711524736802206| 20.74645754237464| 0.04473090432939809|    -5.551662426595367| -1.2073083611154383| 4.721151088594104|[1.0,0.372,11.0,1...|[-2.4929400558154...|\n",
      "|       1.0|       0.397| 9.0| 1.0|  0.702|           4.0| 10.0|   467.2183643651007|-1.5729838989043932|21.597805662944644|0.011497794157889662|   -0.6597104702396017|  -2.970045033818015|5.1209061099771365|[1.0,0.397,9.0,1....|[-2.4929400558154...|\n",
      "|       1.0|       0.403| 1.0| 1.0|  0.498|           4.0| 10.0|   651.0299532279602|-1.5713656015695994|15.060014156413306|  0.8310694107104097|   -1.1874402236915758|  -1.248269578908029|  4.87235578715775|[1.0,0.403,1.0,1....|[-2.4929400558154...|\n",
      "|       1.0|       0.442| 1.0| 1.0|  0.175|           3.0|  9.0|  497.19211578624214|-1.7199495207828182|30.673905708413855|  0.5517848352762241|    -5.551662426595367| -2.2163982224831504| 5.249067105592904|[1.0,0.442,1.0,1....|[-2.4929400558154...|\n",
      "|       1.0|       0.453| 5.0| 1.0|  0.487|           4.0|  2.0|   395.4402609750302|-1.9468500536143079|25.574793483542617|  0.9915962413403874|    -4.509769101224839| -2.3783760189819962| 4.343085858469635|[1.0,0.453,5.0,1....|[-2.4929400558154...|\n",
      "|       1.0|       0.478|10.0| 0.0|  0.768|           4.0|  3.0|  445.18198528242357| -2.296718698389527| 6.756711103303356|  0.9820116944087622|     -4.94330380193597| -1.7203638865648083| 5.532251284361627|[1.0,0.478,10.0,0...|[-2.4929400558154...|\n",
      "|       1.0|       0.505| 1.0| 1.0|  0.344|           4.0|  9.0|   458.7668252827355| -1.876061621021208| 35.21002781592197|   0.205434335909095|    -5.551662426595367| -2.1982160687013748|5.0145443182060605|[1.0,0.505,1.0,1....|[-2.4929400558154...|\n",
      "|       1.0|       0.531| 1.0| 1.0|   0.52|           4.0|  0.0|   479.1210702943464| -2.196689235027742|24.629935223270365|  0.9531749727449074|    -5.551662426595367|  -2.154156467223275| 4.382749259146394|[1.0,0.531,1.0,1....|[-2.4929400558154...|\n",
      "|       1.0|       0.543| 9.0| 1.0|  0.703|           4.0|  2.0|   525.3189507337423|-1.7988676005018047|11.876343511359723|  0.1009901634049961|   -12.507177738314095|  -2.404606744423395| 4.792566619453488|[1.0,0.543,9.0,1....|[-2.4929400558154...|\n",
      "+----------+------------+----+----+-------+--------------+-----+--------------------+-------------------+------------------+--------------------+----------------------+--------------------+------------------+--------------------+--------------------+\n",
      "only showing top 20 rows\n",
      "\n"
     ]
    }
   ],
   "source": [
    "training_data.show()"
   ]
  }
 ],
 "metadata": {
  "kernelspec": {
   "display_name": "Python 3 (ipykernel)",
   "language": "python",
   "name": "python3"
  },
  "language_info": {
   "codemirror_mode": {
    "name": "ipython",
    "version": 3
   },
   "file_extension": ".py",
   "mimetype": "text/x-python",
   "name": "python",
   "nbconvert_exporter": "python",
   "pygments_lexer": "ipython3",
   "version": "3.11.4"
  }
 },
 "nbformat": 4,
 "nbformat_minor": 5
}
