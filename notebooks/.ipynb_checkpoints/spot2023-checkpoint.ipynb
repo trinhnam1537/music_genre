{
 "cells": [
  {
   "cell_type": "code",
   "execution_count": 1,
   "id": "3f39ae10-8671-452d-a276-57ad89aa4815",
   "metadata": {},
   "outputs": [
    {
     "name": "stdout",
     "output_type": "stream",
     "text": [
      "Requirement already satisfied: pyspark in /usr/local/spark/python (3.5.0)\n",
      "Requirement already satisfied: findspark in /opt/conda/lib/python3.11/site-packages (2.0.1)\n",
      "Requirement already satisfied: py4j==0.10.9.7 in /opt/conda/lib/python3.11/site-packages (from pyspark) (0.10.9.7)\n"
     ]
    }
   ],
   "source": [
    "!pip install pyspark findspark"
   ]
  },
  {
   "cell_type": "code",
   "execution_count": 2,
   "id": "29ed96cb-99de-45e2-85d8-e94cc8f69483",
   "metadata": {},
   "outputs": [],
   "source": [
    "def warn(*args, **kwargs):\n",
    "    pass\n",
    "import warnings\n",
    "warnings.warn = warn\n",
    "warnings.filterwarnings('ignore')\n",
    "import findspark\n",
    "findspark.init()"
   ]
  },
  {
   "cell_type": "code",
   "execution_count": 3,
   "id": "dd1a9f76-032a-48c5-adeb-a01ebe741be4",
   "metadata": {},
   "outputs": [
    {
     "name": "stdout",
     "output_type": "stream",
     "text": [
      "hello nam\n"
     ]
    }
   ],
   "source": [
    "print(\"hello nam\")"
   ]
  },
  {
   "cell_type": "code",
   "execution_count": 4,
   "id": "726fdb10-f3b5-4a68-a3f0-e35ad7824b76",
   "metadata": {},
   "outputs": [],
   "source": [
    "from pyspark.ml.classification import RandomForestClassificationModel\n",
    "from pyspark.sql import SparkSession\n",
    "\n",
    "# Khởi tạo SparkSession\n",
    "spark = SparkSession.builder.appName(\"rfmodel\").master(\"local\").getOrCreate()\n"
   ]
  },
  {
   "cell_type": "code",
   "execution_count": 8,
   "id": "eb0bf569-089c-4d93-b773-f0e210d9cf69",
   "metadata": {},
   "outputs": [],
   "source": [
    "model_path = \"hdfs://namenode:9000/user/root/random_forest_model\"\n",
    "rf_model = RandomForestClassificationModel.load(model_path)"
   ]
  },
  {
   "cell_type": "code",
   "execution_count": 7,
   "id": "a998e426-b0db-4be8-998c-131f75f1a537",
   "metadata": {},
   "outputs": [
    {
     "data": {
      "text/plain": [
       "375141"
      ]
     },
     "execution_count": 7,
     "metadata": {},
     "output_type": "execute_result"
    }
   ],
   "source": [
    "df = spark.read.csv(\"hdfs://namenode:9000/user/root/spotify_data_2023.csv\", header=True, inferSchema=True)\n",
    "df.count()"
   ]
  },
  {
   "cell_type": "code",
   "execution_count": 10,
   "id": "e7d61cfb-7df2-4535-9e4f-dfc1dfac32f8",
   "metadata": {},
   "outputs": [
    {
     "name": "stdout",
     "output_type": "stream",
     "text": [
      "root\n",
      " |-- album_id: string (nullable = true)\n",
      " |-- album_name: string (nullable = true)\n",
      " |-- album_popularity: string (nullable = true)\n",
      " |-- album_type: string (nullable = true)\n",
      " |-- artists: string (nullable = true)\n",
      " |-- artist_0: string (nullable = true)\n",
      " |-- artist_1: string (nullable = true)\n",
      " |-- artist_2: string (nullable = true)\n",
      " |-- artist_3: string (nullable = true)\n",
      " |-- artist_4: string (nullable = true)\n",
      " |-- artist_id: string (nullable = true)\n",
      " |-- duration_sec: string (nullable = true)\n",
      " |-- label: string (nullable = true)\n",
      " |-- release_date: string (nullable = true)\n",
      " |-- total_tracks: string (nullable = true)\n",
      " |-- track_id: string (nullable = true)\n",
      " |-- track_name: string (nullable = true)\n",
      " |-- track_number: string (nullable = true)\n",
      " |-- artist_genres: string (nullable = true)\n",
      " |-- artist_popularity: string (nullable = true)\n",
      " |-- followers: string (nullable = true)\n",
      " |-- name: string (nullable = true)\n",
      " |-- genre_0: string (nullable = true)\n",
      " |-- genre_1: string (nullable = true)\n",
      " |-- genre_2: string (nullable = true)\n",
      " |-- genre_3: string (nullable = true)\n",
      " |-- genre_4: string (nullable = true)\n",
      " |-- acousticness: string (nullable = true)\n",
      " |-- analysis_url: string (nullable = true)\n",
      " |-- danceability: string (nullable = true)\n",
      " |-- duration_ms: string (nullable = true)\n",
      " |-- energy: string (nullable = true)\n",
      " |-- instrumentalness: string (nullable = true)\n",
      " |-- key: string (nullable = true)\n",
      " |-- liveness: string (nullable = true)\n",
      " |-- loudness: string (nullable = true)\n",
      " |-- mode: string (nullable = true)\n",
      " |-- speechiness: string (nullable = true)\n",
      " |-- tempo: double (nullable = true)\n",
      " |-- time_signature: string (nullable = true)\n",
      " |-- track_href: string (nullable = true)\n",
      " |-- type: string (nullable = true)\n",
      " |-- uri: string (nullable = true)\n",
      " |-- valence: string (nullable = true)\n",
      " |-- explicit: string (nullable = true)\n",
      " |-- track_popularity: string (nullable = true)\n",
      " |-- release_year: string (nullable = true)\n",
      " |-- release_month: string (nullable = true)\n",
      " |-- rn: string (nullable = true)\n",
      "\n"
     ]
    }
   ],
   "source": [
    "df.printSchema()"
   ]
  },
  {
   "cell_type": "code",
   "execution_count": 14,
   "id": "4a09f43b-3c9c-4b7d-886c-f0681aa5560b",
   "metadata": {},
   "outputs": [
    {
     "data": {
      "text/plain": [
       "58530"
      ]
     },
     "execution_count": 14,
     "metadata": {},
     "output_type": "execute_result"
    }
   ],
   "source": [
    "df=df.filter(df[\"release_year\"]==\"2023\")\n",
    "df.count()"
   ]
  },
  {
   "cell_type": "code",
   "execution_count": 15,
   "id": "b2013804-e0b5-40c8-9494-10796120feef",
   "metadata": {},
   "outputs": [],
   "source": [
    "df = df.repartition(8)"
   ]
  },
  {
   "cell_type": "code",
   "execution_count": 16,
   "id": "c50d99c2-3eb3-4322-a61b-c3732587aa2b",
   "metadata": {},
   "outputs": [
    {
     "name": "stdout",
     "output_type": "stream",
     "text": [
      "root\n",
      " |-- album_id: string (nullable = true)\n",
      " |-- album_name: string (nullable = true)\n",
      " |-- album_popularity: string (nullable = true)\n",
      " |-- album_type: string (nullable = true)\n",
      " |-- artists: string (nullable = true)\n",
      " |-- artist_0: string (nullable = true)\n",
      " |-- artist_1: string (nullable = true)\n",
      " |-- artist_2: string (nullable = true)\n",
      " |-- artist_3: string (nullable = true)\n",
      " |-- artist_4: string (nullable = true)\n",
      " |-- artist_id: string (nullable = true)\n",
      " |-- duration_sec: string (nullable = true)\n",
      " |-- label: string (nullable = true)\n",
      " |-- release_date: string (nullable = true)\n",
      " |-- total_tracks: string (nullable = true)\n",
      " |-- track_id: string (nullable = true)\n",
      " |-- track_name: string (nullable = true)\n",
      " |-- track_number: string (nullable = true)\n",
      " |-- artist_genres: string (nullable = true)\n",
      " |-- artist_popularity: string (nullable = true)\n",
      " |-- followers: string (nullable = true)\n",
      " |-- name: string (nullable = true)\n",
      " |-- genre_0: string (nullable = true)\n",
      " |-- genre_1: string (nullable = true)\n",
      " |-- genre_2: string (nullable = true)\n",
      " |-- genre_3: string (nullable = true)\n",
      " |-- genre_4: string (nullable = true)\n",
      " |-- acousticness: string (nullable = true)\n",
      " |-- analysis_url: string (nullable = true)\n",
      " |-- danceability: string (nullable = true)\n",
      " |-- duration_ms: string (nullable = true)\n",
      " |-- energy: string (nullable = true)\n",
      " |-- instrumentalness: string (nullable = true)\n",
      " |-- key: string (nullable = true)\n",
      " |-- liveness: string (nullable = true)\n",
      " |-- loudness: string (nullable = true)\n",
      " |-- mode: string (nullable = true)\n",
      " |-- speechiness: string (nullable = true)\n",
      " |-- tempo: double (nullable = true)\n",
      " |-- time_signature: string (nullable = true)\n",
      " |-- track_href: string (nullable = true)\n",
      " |-- type: string (nullable = true)\n",
      " |-- uri: string (nullable = true)\n",
      " |-- valence: string (nullable = true)\n",
      " |-- explicit: string (nullable = true)\n",
      " |-- track_popularity: string (nullable = true)\n",
      " |-- release_year: string (nullable = true)\n",
      " |-- release_month: string (nullable = true)\n",
      " |-- rn: string (nullable = true)\n",
      "\n"
     ]
    }
   ],
   "source": [
    "df.printSchema()"
   ]
  },
  {
   "cell_type": "code",
   "execution_count": null,
   "id": "e8cfc2d3-93be-4f2c-b598-014f094cd547",
   "metadata": {},
   "outputs": [],
   "source": [
    "selected_columns = [\n",
    "    \"acousticness\",\n",
    "    \"danceability\",\n",
    "    \"duration_ms\",\n",
    "    \"energy\",\n",
    "    \"instrumentalness\",\n",
    "    \"liveness\",\n",
    "    \"loudness\",\n",
    "    \"mode\",\n",
    "    \"speechiness\",\n",
    "    \"tempo\",\n",
    "    \"key\",\n",
    "    \"time_signature\",\n",
    "    \"valence\",\n",
    "    \"release_year\",\n",
    "    \"release_month\",\n",
    "    \"followers\"\n",
    "]\n",
    "df_test=df.select(selected_columns).show(5)"
   ]
  }
 ],
 "metadata": {
  "kernelspec": {
   "display_name": "Python 3 (ipykernel)",
   "language": "python",
   "name": "python3"
  },
  "language_info": {
   "codemirror_mode": {
    "name": "ipython",
    "version": 3
   },
   "file_extension": ".py",
   "mimetype": "text/x-python",
   "name": "python",
   "nbconvert_exporter": "python",
   "pygments_lexer": "ipython3",
   "version": "3.11.6"
  }
 },
 "nbformat": 4,
 "nbformat_minor": 5
}
