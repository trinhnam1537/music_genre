{
 "cells": [
  {
   "cell_type": "code",
   "execution_count": 1,
   "id": "b215dd7a-8229-4df2-8de1-2d9d9dc306f6",
   "metadata": {},
   "outputs": [
    {
     "name": "stdout",
     "output_type": "stream",
     "text": [
      "Requirement already satisfied: pyspark in /usr/local/spark/python (3.5.0)\n",
      "Requirement already satisfied: findspark in /opt/conda/lib/python3.11/site-packages (2.0.1)\n",
      "Requirement already satisfied: py4j==0.10.9.7 in /opt/conda/lib/python3.11/site-packages (from pyspark) (0.10.9.7)\n"
     ]
    }
   ],
   "source": [
    "!pip install pyspark findspark"
   ]
  },
  {
   "cell_type": "code",
   "execution_count": 5,
   "id": "8fee8ff0-c45b-497a-b65b-d325860c4b35",
   "metadata": {},
   "outputs": [],
   "source": [
    "def warn(*args, **kwargs):\n",
    "    pass\n",
    "import warnings\n",
    "warnings.warn = warn\n",
    "warnings.filterwarnings('ignore')\n",
    "import findspark\n",
    "findspark.init()"
   ]
  },
  {
   "cell_type": "code",
   "execution_count": 6,
   "id": "fae6ed51-f103-4f4e-9f09-086d87f69d67",
   "metadata": {},
   "outputs": [],
   "source": [
    "from pyspark.ml.classification import RandomForestClassificationModel\n",
    "from pyspark.sql import SparkSession\n",
    "\n",
    "# Khởi tạo SparkSession\n",
    "spark = SparkSession.builder.appName(\"rfmodel\").master(\"local\").getOrCreate()\n",
    "model_path = \"hdfs://namenode:9000/user/root/random_forest_model\"\n",
    "rf_model = RandomForestClassificationModel.load(model_path)"
   ]
  },
  {
   "cell_type": "code",
   "execution_count": 9,
   "id": "64b72318-c0b7-456d-a037-d4068cf9c790",
   "metadata": {},
   "outputs": [
    {
     "name": "stdout",
     "output_type": "stream",
     "text": [
      "+---------------+--------------------+----------+------------+------+----+--------+----+-----------+------------+----------------+--------+-------+-------+------------------+--------------+\n",
      "|    Artist Name|          Track Name|Popularity|danceability|energy| key|loudness|mode|speechiness|acousticness|instrumentalness|liveness|valence|  tempo|duration_in min/ms|time_signature|\n",
      "+---------------+--------------------+----------+------------+------+----+--------+----+-----------+------------+----------------+--------+-------+-------+------------------+--------------+\n",
      "|    David Bowie|Space Oddity - 20...|      73.0|        0.31| 0.403|NULL| -13.664|   1|     0.0326|      0.0726|         9.27E-5|   0.139|  0.466| 134.48|          318027.0|             4|\n",
      "|    Crimson Sun| Essence of Creation|      34.0|       0.511| 0.955| 1.0|  -5.059|   1|      0.129|      4.0E-4|          8.7E-6|   0.263|  0.291|151.937|          220413.0|             4|\n",
      "|           P!nk|    Raise Your Glass|      78.0|         0.7| 0.709| 7.0|  -5.006|   1|     0.0839|      0.0048|            NULL|  0.0289|  0.625|122.019|          202960.0|             4|\n",
      "|   Shawn Mendes|              Wonder|      80.0|       0.333| 0.637| 1.0|  -4.904|   0|     0.0581|       0.131|          1.8E-5|   0.149|  0.132|139.898|          172693.0|             4|\n",
      "|Backstreet Boys|Helpless When She...|      48.0|       0.393| 0.849|11.0|  -4.114|   1|     0.0459|     0.00421|            NULL|   0.162|  0.222| 74.028|       4.093116667|             4|\n",
      "+---------------+--------------------+----------+------------+------+----+--------+----+-----------+------------+----------------+--------+-------+-------+------------------+--------------+\n",
      "only showing top 5 rows\n",
      "\n"
     ]
    }
   ],
   "source": [
    "df_test = spark.read.csv(\"hdfs://namenode:9000/user/root/test.csv\", header=True, inferSchema=True)\n",
    "df_test.show(5)"
   ]
  },
  {
   "cell_type": "code",
   "execution_count": 12,
   "id": "35305920-fe4a-4b88-970a-0c5c984a9853",
   "metadata": {},
   "outputs": [],
   "source": [
    "from pyspark.sql.functions import when, col,sqrt, cbrt,log, expr\n",
    "from pyspark.ml import Pipeline\n",
    "from pyspark.sql import SparkSession\n",
    "from pyspark.ml.feature import StringIndexer\n",
    "new_columns = [col.replace(\" \", \"_\").lower() for col in df_test.columns]\n",
    "df_test = df_test.toDF(*new_columns)\n",
    "df_test = df_test.withColumn(\n",
    "    \"duration_in_min/ms\",\n",
    "    when(col(\"duration_in_min/ms\") < 30, col(\"duration_in_min/ms\") * 60000)\n",
    "    .otherwise(col(\"duration_in_min/ms\"))\n",
    "    )\n",
    "    # xoa trung lap\n",
    "columns_to_check=[col for col in df_test.columns if col != \"class\"]\n",
    "df_test = df_test.dropDuplicates(subset=columns_to_check)\n",
    "    # thay null = median \n",
    "df_test = df_test.withColumn(\"popularity\", col(\"popularity\").cast(\"float\"))\n",
    "popularity_median = df_test.approxQuantile(\"popularity\", [0.5], 0.001)[0]\n",
    "instrumentalness_median = df_test.approxQuantile(\"instrumentalness\", [0.5], 0.001)[0]\n",
    "df_test = df_test.fillna({\n",
    "    \"popularity\": popularity_median,\n",
    "    \"instrumentalness\": instrumentalness_median\n",
    "})\n",
    "df_test = df_test.fillna({\"key\": -1})"
   ]
  },
  {
   "cell_type": "code",
   "execution_count": 16,
   "id": "ac070e51-63d9-4a3f-af08-0b228f9a03df",
   "metadata": {},
   "outputs": [],
   "source": [
    "df_test = df_test.drop(\"energy\")\n",
    "epsilon = 1e-6\n",
    "df_test =    df_test.withColumn(\"duration_in_ms_trans\", sqrt(col(\"duration_in_min/ms\")))\n",
    "df_test =    df_test.withColumn(\"loudness_trans\", cbrt(col(\"loudness\")))\n",
    "df_test =    df_test.withColumn(\"speechiness_trans\", expr(f\"1 / (speechiness + {epsilon})\"))\n",
    "df_test =    df_test.withColumn(\"acousticness_trans\", cbrt(col(\"acousticness\")))\n",
    "df_test =    df_test.withColumn(\"instrumentalness_trans\", log(col(\"instrumentalness\") + epsilon))\n",
    "df_test =    df_test.withColumn(\"liveness_trans\", log(col(\"liveness\") + epsilon))\n",
    "df_test =    df_test.withColumn(\"tempo_trans\", cbrt(col(\"tempo\")))\n",
    "columns = [\"artist_name\", \"track_name\"]\n",
    "indexers = [StringIndexer(inputCol=col, outputCol=col+\"_index\") for col in columns]\n",
    "pipeline = Pipeline(stages=indexers)\n",
    "df_test= pipeline.fit(df_test).transform(df_test)"
   ]
  },
  {
   "cell_type": "code",
   "execution_count": 17,
   "id": "008abb37-77ae-49ee-9621-e97071872a54",
   "metadata": {},
   "outputs": [
    {
     "name": "stdout",
     "output_type": "stream",
     "text": [
      "root\n",
      " |-- artist_name: string (nullable = true)\n",
      " |-- track_name: string (nullable = true)\n",
      " |-- popularity: float (nullable = false)\n",
      " |-- danceability: double (nullable = true)\n",
      " |-- key: double (nullable = false)\n",
      " |-- loudness: double (nullable = true)\n",
      " |-- mode: integer (nullable = true)\n",
      " |-- speechiness: double (nullable = true)\n",
      " |-- acousticness: double (nullable = true)\n",
      " |-- instrumentalness: double (nullable = false)\n",
      " |-- liveness: double (nullable = true)\n",
      " |-- valence: double (nullable = true)\n",
      " |-- tempo: double (nullable = true)\n",
      " |-- duration_in_min/ms: double (nullable = true)\n",
      " |-- time_signature: integer (nullable = true)\n",
      " |-- duration_in_ms_trans: double (nullable = true)\n",
      " |-- loudness_trans: double (nullable = true)\n",
      " |-- speechiness_trans: double (nullable = true)\n",
      " |-- acousticness_trans: double (nullable = true)\n",
      " |-- instrumentalness_trans: double (nullable = true)\n",
      " |-- liveness_trans: double (nullable = true)\n",
      " |-- tempo_trans: double (nullable = true)\n",
      " |-- artist_name_index: double (nullable = false)\n",
      " |-- track_name_index: double (nullable = false)\n",
      "\n"
     ]
    }
   ],
   "source": [
    "df_test.printSchema()"
   ]
  },
  {
   "cell_type": "code",
   "execution_count": 20,
   "id": "6ca1b94b-70cb-492d-be50-f24f2f034df6",
   "metadata": {},
   "outputs": [],
   "source": [
    "df_test=df_test.drop(\"artist_name\",\"track_name\",\"artist_name_index\",\"track_name_index\")\n",
    "df_test = df_test.drop(\"duration_in_min/ms\",\"instrumentalness\",\"loudness\",\"speechiness\",\"liveness\",\"tempo\",\"acousticness\")\n",
    "indexer = StringIndexer(inputCol=\"danceability\", outputCol=\"danceability_index\")\n",
    "df_test = indexer.fit(df_test).transform(df_test)\n",
    "df_test=df_test.drop(\"danceability\")"
   ]
  },
  {
   "cell_type": "code",
   "execution_count": 21,
   "id": "d07db6cc-f6cf-4b40-853a-28d57d640b2c",
   "metadata": {},
   "outputs": [],
   "source": [
    "from pyspark.ml.feature import VectorAssembler, StandardScaler \n",
    "from pyspark.sql.functions import col\n",
    "feature_cols = [col for col in df_test.columns if col not in \"class\"]\n",
    "assembler = VectorAssembler(inputCols=feature_cols, outputCol=\"features_unscaled\")\n",
    "df_vec = assembler.transform(df_test)\n",
    "scaler = StandardScaler(inputCol=\"features_unscaled\",outputCol=\"features\",withStd=True,withMean=True)\n",
    "scaler_model=scaler.fit(df_vec)\n",
    "df_scaled = scaler_model.transform(df_vec)"
   ]
  },
  {
   "cell_type": "code",
   "execution_count": 22,
   "id": "ab8f72d8-2b1c-48d1-9bcc-9b3bb6372877",
   "metadata": {},
   "outputs": [
    {
     "name": "stdout",
     "output_type": "stream",
     "text": [
      "+----------+----+----+-------+--------------+--------------------+-------------------+------------------+--------------------+----------------------+-------------------+------------------+------------------+--------------------+--------------------+--------------------+--------------------+----------+\n",
      "|popularity| key|mode|valence|time_signature|duration_in_ms_trans|     loudness_trans| speechiness_trans|  acousticness_trans|instrumentalness_trans|     liveness_trans|       tempo_trans|danceability_index|   features_unscaled|            features|       rawPrediction|         probability|prediction|\n",
      "+----------+----+----+-------+--------------+--------------------+-------------------+------------------+--------------------+----------------------+-------------------+------------------+------------------+--------------------+--------------------+--------------------+--------------------+----------+\n",
      "|      61.0|10.0|   0|  0.544|             4|  401.95024567724795| -1.678033413122095|3.8314029448163036|  0.5091643369659489|   -12.087401115812675|-2.4985878115438798|  5.19217264183931|             267.0|[61.0,10.0,0.0,0....|[0.95267811421702...|[0.35341626000265...|[0.00441770325003...|       5.0|\n",
      "|      40.0| 4.0|   0|  0.137|             4|   739.3510668146763| -2.311224278098669|26.880997822639177|   0.676061430174869|  -0.16723473734351543|-2.2633547645023766| 4.917471986570798|             110.0|[40.0,4.0,0.0,0.1...|[-0.2731249200139...|[2.22149094254808...|[0.02776863678185...|       5.0|\n",
      "|      46.0| 4.0|   0|  0.317|             3|   655.9062433000619| -1.744390199703724|11.363507232872355| 0.05915481699700716|    -0.699163240815098|  -2.17154805869629|5.1076011222838895|             566.0|[46.0,4.0,0.0,0.3...|[0.07710451833772...|[0.03941396207226...|[4.92674525903286...|       8.0|\n",
      "|      59.0| 1.0|   1|  0.656|             4|   497.3932046178355| -2.130690629566254|  3.37836696497647|  0.5582770171658424|    -7.435388021064509| -2.722641132907254| 4.641387689380154|             605.0|[59.0,1.0,1.0,0.6...|[0.83593496809978...|[0.16960996999386...|[0.00212012462492...|       5.0|\n",
      "|      52.0| 1.0|   1|  0.554|             4|   342.7812713670337|-1.8186335998532408|18.552531492922206|  0.7536122043392361|    -2.588921404721472| -2.207265822321952| 4.982968719633416|             583.0|[52.0,1.0,1.0,0.5...|[0.42733395668944...|[0.70247587695996...|[0.00878094846199...|       9.0|\n",
      "|      67.0| 2.0|   0|  0.705|             4|   445.7656332648357|-2.0943156932885874|17.241082050309476|   0.675331341669382|    -4.801063422812141|-2.5574644394802752| 4.590465443281572|             212.0|[67.0,2.0,0.0,0.7...|[1.30290755256874...|[0.52550406426558...|[0.00656880080331...|       5.0|\n",
      "|      15.0| 7.0|   1|  0.183|             4|   542.9548784199291|-1.8120589493627581|22.572853885916796| 0.07355762368401103|     -2.46744794380098|  -1.39432250056722| 5.203769456227276|              41.0|[15.0,7.0,1.0,0.1...|[-1.7324142464794...|[0.54382972236003...|[0.00679787152950...|       8.0|\n",
      "|      10.0|11.0|   0|  0.318|             4|  350.73209148864606|-1.2313497862043472|12.360786640461798|0.039769507717124335|   -1.0847064249236134|-2.0557172025930375| 5.605267153200534|             754.0|[10.0,11.0,0.0,0....|[-2.0242721117725...|[0.01452167895983...|[1.81520986997903...|       8.0|\n",
      "|      17.0| 3.0|   1|  0.497|             4|  502.23998245858525|-1.9552564730470257|23.094154869402555|  0.3089873302932822|    -8.310179022031912|-1.0244301049824176| 5.334941789169882|             289.0|[17.0,3.0,1.0,0.4...|[-1.6156711003622...|[0.67945369897472...|[0.00849317123718...|       5.0|\n",
      "|      71.0| 4.0|   0|  0.669|             4|   502.7255714602153|-1.6632240048551605|14.184195968851506| 0.31681741053176704|    -4.700470365842416|-1.1679591513739889| 5.426074171263789|             430.0|[71.0,4.0,0.0,0.6...|[1.53639384480321...|[0.32617819338322...|[0.00407722741729...|       5.0|\n",
      "|      51.0| 4.0|   0|  0.803|             4|   489.1901470798446|-2.3743802630448183| 37.59257170783053| 0.48488075858398794|     -5.29811738654537|-2.7985056840398506| 4.726319816444848|             304.0|[51.0,4.0,0.0,0.8...|[0.36896238363082...|[0.49658061126837...|[0.00620725764085...|       5.0|\n",
      "|      37.0|11.0|   0|  0.689|             4|  485.22159885973747|   -1.9022134867839|15.772621882935601|  0.7506660749504314|   -12.700368967344954| -1.845153916861275|4.5185407877443025|             131.0|[37.0,11.0,0.0,0....|[-0.4482396391898...|[0.61508584652885...|[0.00768857308161...|       5.0|\n",
      "|      49.0| 9.0|   0|  0.363|             4|   471.2674399955932| -2.214776562310365|11.376434852845815|  0.1623608275859847|     -3.58628676535744| -1.737265602141945| 5.580202199736014|             169.0|[49.0,9.0,0.0,0.3...|[0.25221923751358...|[0.40075955436998...|[0.00500949442962...|       5.0|\n",
      "|      49.0| 2.0|   1|  0.891|             4|   421.3051150888154|-1.9176562837420497| 24.87500310937539|  0.7640321249615055|    -4.268626523346349| -1.482800856224094| 4.717723933738927|             457.0|[49.0,2.0,1.0,0.8...|[0.25221923751358...|[0.50572211025072...|[0.00632152637813...|       5.0|\n",
      "|      56.0| 5.0|   1|  0.177|             3|   541.1478541027396|  -2.36207755387124|24.095804920363364|  0.9788908734864755|    -9.701363368445994|-2.2633547645023766| 4.413765429794613|             287.0|[56.0,5.0,1.0,0.1...|[0.66082024892392...|[4.52437502405418...|[0.05655468780067...|       5.0|\n",
      "|      66.0| 1.0|   1|  0.228|             4|   490.0479568368794| -2.457853460548678|25.706280044214804|  0.9840812720675329|    -5.677822372986669|-2.3207388803741775|4.3534345535671095|             408.0|[66.0,1.0,1.0,0.2...|[1.24453597951012...|[4.77426346670719...|[0.05967829333383...|       5.0|\n",
      "|      27.0| 5.0|   1|  0.368|             4|  465.24832079224103|-1.6669510625797295| 19.60745867728084|0.059533418131390514|  -0.42924410067643726|-1.2073083611154383|5.1077288937663194|             156.0|[27.0,5.0,1.0,0.3...|[-1.0319553697760...|[0.03778042570563...|[4.72255321320427...|       8.0|\n",
      "|      35.0| 7.0|   0|  0.402|             4|    519.809580519636|-1.9459702008015605| 39.52412948104818| 0.15240565695688593|   -0.7787028902747277|-2.1982160687013748| 4.284694095793197|               3.0|[35.0,7.0,0.0,0.4...|[-0.5649827853070...|[0.47587013414790...|[0.00594837667684...|       6.0|\n",
      "|      59.0| 6.0|   0|  0.581|             4|   468.4015371452148| -1.872170547200888|14.104173424916432| 0.16631034988407659|   -10.159670957928538| -2.292624861199793| 4.907831430646818|             286.0|[59.0,6.0,0.0,0.5...|[0.83593496809978...|[0.11210475710229...|[0.00140130946377...|       5.0|\n",
      "|      47.0| 1.0|   1| 0.0388|             4|   618.6824710624991| -1.999833319442515| 22.42102195018049| 0.42002267451281194|  -0.11428802532652285| -2.273016582061767| 5.035796444656086|             351.0|[47.0,1.0,1.0,0.0...|[0.13547609139634...|[1.97106097882929...|[0.02463826223536...|       6.0|\n",
      "+----------+----+----+-------+--------------+--------------------+-------------------+------------------+--------------------+----------------------+-------------------+------------------+------------------+--------------------+--------------------+--------------------+--------------------+----------+\n",
      "only showing top 20 rows\n",
      "\n"
     ]
    }
   ],
   "source": [
    "predictions = rf_model.transform(df_scaled)\n",
    "predictions.show()"
   ]
  },
  {
   "cell_type": "code",
   "execution_count": 24,
   "id": "20d6e117-1049-46c2-9263-337094b8ce66",
   "metadata": {},
   "outputs": [
    {
     "name": "stdout",
     "output_type": "stream",
     "text": [
      "+----------+-----+\n",
      "|prediction|count|\n",
      "+----------+-----+\n",
      "|       2.0|   30|\n",
      "|       1.0|   33|\n",
      "|       9.0|   71|\n",
      "|       3.0|  134|\n",
      "|       7.0|  233|\n",
      "|      10.0|  453|\n",
      "|       8.0|  911|\n",
      "|       6.0| 1004|\n",
      "|       5.0| 4519|\n",
      "+----------+-----+\n",
      "\n"
     ]
    }
   ],
   "source": [
    "predictions.groupBy(\"prediction\").count().orderBy(\"count\").show()"
   ]
  },
  {
   "cell_type": "code",
   "execution_count": null,
   "id": "ce7f9aec-a405-4a92-aa48-1cc1648c34cd",
   "metadata": {},
   "outputs": [],
   "source": []
  }
 ],
 "metadata": {
  "kernelspec": {
   "display_name": "Python 3 (ipykernel)",
   "language": "python",
   "name": "python3"
  },
  "language_info": {
   "codemirror_mode": {
    "name": "ipython",
    "version": 3
   },
   "file_extension": ".py",
   "mimetype": "text/x-python",
   "name": "python",
   "nbconvert_exporter": "python",
   "pygments_lexer": "ipython3",
   "version": "3.11.6"
  }
 },
 "nbformat": 4,
 "nbformat_minor": 5
}
