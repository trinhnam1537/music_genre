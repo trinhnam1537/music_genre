{
 "cells": [
  {
   "cell_type": "code",
   "execution_count": 1,
   "id": "a4046832-f06a-4b96-a583-04144a8ee607",
   "metadata": {},
   "outputs": [
    {
     "name": "stdout",
     "output_type": "stream",
     "text": [
      "Requirement already satisfied: pyspark in /usr/local/spark/python (3.4.0)\n",
      "Collecting findspark\n",
      "  Downloading findspark-2.0.1-py2.py3-none-any.whl (4.4 kB)\n",
      "Collecting py4j==0.10.9.7 (from pyspark)\n",
      "  Downloading py4j-0.10.9.7-py2.py3-none-any.whl (200 kB)\n",
      "\u001b[2K     \u001b[90m━━━━━━━━━━━━━━━━━━━━━━━━━━━━━━━━━━━━━\u001b[0m \u001b[32m200.5/200.5 kB\u001b[0m \u001b[31m497.7 kB/s\u001b[0m eta \u001b[36m0:00:00\u001b[0ma \u001b[36m0:00:01\u001b[0m\n",
      "\u001b[?25hInstalling collected packages: py4j, findspark\n",
      "Successfully installed findspark-2.0.1 py4j-0.10.9.7\n"
     ]
    }
   ],
   "source": [
    "!pip install pyspark findspark\n"
   ]
  },
  {
   "cell_type": "code",
   "execution_count": 1,
   "id": "128ea7a7-cc65-4cbf-bc7f-c441a6ffff3c",
   "metadata": {},
   "outputs": [],
   "source": [
    "def warn(*args, **kwargs):\n",
    "    pass\n",
    "import warnings\n",
    "warnings.warn = warn\n",
    "warnings.filterwarnings('ignore')\n",
    "import findspark\n",
    "findspark.init()"
   ]
  },
  {
   "cell_type": "code",
   "execution_count": 2,
   "id": "23d01216-55e2-4549-9221-cc7fbf16e8ff",
   "metadata": {},
   "outputs": [],
   "source": [
    "from pyspark.sql import SparkSession\n",
    "from pyspark.ml.feature import StringIndexer\n",
    "from pyspark.sql.functions import when, col,sqrt, cbrt,log, expr,sum\n",
    "from pyspark.ml import Pipeline\n",
    "from pyspark.sql import SparkSession\n",
    "from pyspark.ml.feature import StringIndexer"
   ]
  },
  {
   "cell_type": "code",
   "execution_count": 3,
   "id": "19cf3c23-2432-4b84-93a1-d4ad1cc8d6f4",
   "metadata": {},
   "outputs": [],
   "source": [
    "\n",
    "spark = SparkSession.builder.appName(\"MusicClassifier\").master(\"spark://spark-master:7077\").getOrCreate()\n",
    "\n"
   ]
  },
  {
   "cell_type": "code",
   "execution_count": 4,
   "id": "4b583959-910d-4ebe-806c-b0e63128ce3d",
   "metadata": {},
   "outputs": [
    {
     "name": "stdout",
     "output_type": "stream",
     "text": [
      "+--------------------+--------------------+----------+------------+------+----+--------+----+-----------+------------+----------------+--------+-------+-------+------------------+--------------+-----+\n",
      "|         Artist Name|          Track Name|Popularity|danceability|energy| key|loudness|mode|speechiness|acousticness|instrumentalness|liveness|valence|  tempo|duration_in min/ms|time_signature|Class|\n",
      "+--------------------+--------------------+----------+------------+------+----+--------+----+-----------+------------+----------------+--------+-------+-------+------------------+--------------+-----+\n",
      "|          Bruno Mars|That's What I Lik...|      60.0|       0.854| 0.564| 1.0|  -4.964| 1.0|     0.0485|      0.0171|            null|  0.0849|  0.899|134.071|          234596.0|           4.0|  5.0|\n",
      "|              Boston|        Hitch a Ride|      54.0|       0.382| 0.814| 3.0|   -7.23| 1.0|     0.0406|      0.0011|         0.00401|   0.101|  0.569|116.454|          251733.0|           4.0| 10.0|\n",
      "|       The Raincoats|  No Side to Fall In|      35.0|       0.434| 0.614| 6.0|  -8.334| 1.0|     0.0525|       0.486|         1.96E-4|   0.394|  0.787|147.681|          109667.0|           4.0|  6.0|\n",
      "|                Deno|Lingo (feat. J.I ...|      66.0|       0.853| 0.597|10.0|  -6.528| 0.0|     0.0555|      0.0212|            null|   0.122|  0.569|107.033|          173968.0|           4.0|  5.0|\n",
      "|Red Hot Chili Pep...|Nobody Weird Like...|      53.0|       0.167| 0.975| 2.0|  -4.279| 1.0|      0.216|     1.69E-4|          0.0161|   0.172| 0.0918| 199.06|          229960.0|           4.0| 10.0|\n",
      "+--------------------+--------------------+----------+------------+------+----+--------+----+-----------+------------+----------------+--------+-------+-------+------------------+--------------+-----+\n",
      "only showing top 5 rows\n",
      "\n"
     ]
    }
   ],
   "source": [
    "df = spark.read.csv(\"hdfs://namenode:9000/data/train.csv\", header=True, inferSchema=True)\n",
    "df.show(5)\n"
   ]
  },
  {
   "cell_type": "code",
   "execution_count": 10,
   "id": "04dabe39-ac77-4f9b-8dbc-bf4e0718422f",
   "metadata": {},
   "outputs": [
    {
     "data": {
      "text/plain": [
       "DataFrame[artist_name: string, track_name: string, popularity: float, danceability: string, energy: string, key: double, loudness: double, mode: double, speechiness: double, acousticness: double, instrumentalness: double, liveness: double, valence: double, tempo: double, duration_in_min/ms: double, time_signature: double, class: double, artist_name_index: double, track_name_index: double, duration_in_ms_trans: double, loudness_trans: double, speechiness_trans: double, acousticness_trans: double, instrumentalness_trans: double, liveness_trans: double, tempo_trans: double]"
      ]
     },
     "execution_count": 10,
     "metadata": {},
     "output_type": "execute_result"
    }
   ],
   "source": [
    "df.cache()"
   ]
  },
  {
   "cell_type": "code",
   "execution_count": 5,
   "id": "23d6f700-c593-439f-a0d2-d2dc902d9b0c",
   "metadata": {},
   "outputs": [],
   "source": [
    "new_columns = [col.replace(\" \", \"_\").lower() for col in df.columns]\n",
    "df = df.toDF(*new_columns)"
   ]
  },
  {
   "cell_type": "code",
   "execution_count": 6,
   "id": "b8b90ebf-fab8-4f90-bc97-84ba20fd0df3",
   "metadata": {},
   "outputs": [
    {
     "name": "stdout",
     "output_type": "stream",
     "text": [
      "+-----------+----------+----------+------------+------+----+--------+----+-----------+------------+----------------+--------+-------+-----+------------------+--------------+-----+\n",
      "|artist_name|track_name|popularity|danceability|energy| key|loudness|mode|speechiness|acousticness|instrumentalness|liveness|valence|tempo|duration_in_min/ms|time_signature|class|\n",
      "+-----------+----------+----------+------------+------+----+--------+----+-----------+------------+----------------+--------+-------+-----+------------------+--------------+-----+\n",
      "|          0|         0|       428|           0|     0|2014|       0|   0|          0|           0|            4377|       0|      0|    0|                 0|             0|    0|\n",
      "+-----------+----------+----------+------------+------+----+--------+----+-----------+------------+----------------+--------+-------+-----+------------------+--------------+-----+\n",
      "\n"
     ]
    }
   ],
   "source": [
    "df.select([sum(col(c).isNull().cast(\"int\")).alias(c) for c in df.columns]).show()"
   ]
  },
  {
   "cell_type": "code",
   "execution_count": 7,
   "id": "1b2dce9a-e939-4538-b4f4-95a997f707f1",
   "metadata": {},
   "outputs": [],
   "source": [
    "df = df.withColumn(\n",
    "    \"duration_in_min/ms\",\n",
    "    when(col(\"duration_in_min/ms\") < 30, col(\"duration_in_min/ms\") * 60000)\n",
    "    .otherwise(col(\"duration_in_min/ms\"))\n",
    "    )\n",
    "columns_to_check=[col for col in df.columns if col != \"class\"]\n",
    "df = df.dropDuplicates(subset=columns_to_check)\n",
    "df = df.withColumn(\"popularity\", col(\"popularity\").cast(\"float\"))\n",
    "popularity_median = df.approxQuantile(\"popularity\", [0.5], 0.001)[0]\n",
    "instrumentalness_median = df.approxQuantile(\"instrumentalness\", [0.5], 0.001)[0]\n",
    "df = df.fillna({\"popularity\": popularity_median,\"instrumentalness\": instrumentalness_median})\n",
    "df = df.fillna({\"key\": -1})"
   ]
  },
  {
   "cell_type": "code",
   "execution_count": 8,
   "id": "dad62a61-bd8d-4f98-bf04-fcb36c837460",
   "metadata": {},
   "outputs": [],
   "source": [
    "columns = [\"artist_name\", \"track_name\"]\n",
    "indexers = [StringIndexer(inputCol=col, outputCol=col+\"_index\") for col in columns]\n",
    "pipeline = Pipeline(stages=indexers)\n",
    "df= pipeline.fit(df).transform(df)"
   ]
  },
  {
   "cell_type": "code",
   "execution_count": 9,
   "id": "cb0aac8c-b6ee-49b5-90b5-58a0c4630186",
   "metadata": {},
   "outputs": [],
   "source": [
    "epsilon = 1e-6\n",
    "\n",
    "# Biến đổi các cột để giảm skew\n",
    "df =df.withColumn(\"duration_in_ms_trans\", sqrt(col(\"duration_in_min/ms\")))\n",
    "df =df.withColumn(\"loudness_trans\", cbrt(col(\"loudness\")))\n",
    "df =df.withColumn(\"speechiness_trans\", expr(f\"1 / (speechiness + {epsilon})\"))\n",
    "df =df.withColumn(\"acousticness_trans\", cbrt(col(\"acousticness\")))\n",
    "df =df.withColumn(\"instrumentalness_trans\", log(col(\"instrumentalness\") + epsilon))\n",
    "df =df.withColumn(\"liveness_trans\", log(col(\"liveness\") + epsilon))\n",
    "df =df.withColumn(\"tempo_trans\", cbrt(col(\"tempo\")))"
   ]
  },
  {
   "cell_type": "code",
   "execution_count": 12,
   "id": "2e38f080-0304-49f0-9c18-53559c9a74b3",
   "metadata": {},
   "outputs": [
    {
     "name": "stdout",
     "output_type": "stream",
     "text": [
      "root\n",
      " |-- artist_name: string (nullable = true)\n",
      " |-- track_name: string (nullable = true)\n",
      " |-- popularity: float (nullable = false)\n",
      " |-- danceability: float (nullable = true)\n",
      " |-- energy: string (nullable = true)\n",
      " |-- key: double (nullable = false)\n",
      " |-- loudness: double (nullable = true)\n",
      " |-- mode: double (nullable = true)\n",
      " |-- speechiness: double (nullable = true)\n",
      " |-- acousticness: double (nullable = true)\n",
      " |-- instrumentalness: double (nullable = false)\n",
      " |-- liveness: double (nullable = true)\n",
      " |-- valence: double (nullable = true)\n",
      " |-- tempo: double (nullable = true)\n",
      " |-- duration_in_min/ms: double (nullable = true)\n",
      " |-- time_signature: double (nullable = true)\n",
      " |-- class: double (nullable = true)\n",
      " |-- artist_name_index: double (nullable = false)\n",
      " |-- track_name_index: double (nullable = false)\n",
      " |-- duration_in_ms_trans: double (nullable = true)\n",
      " |-- loudness_trans: double (nullable = true)\n",
      " |-- speechiness_trans: double (nullable = true)\n",
      " |-- acousticness_trans: double (nullable = true)\n",
      " |-- instrumentalness_trans: double (nullable = true)\n",
      " |-- liveness_trans: double (nullable = true)\n",
      " |-- tempo_trans: double (nullable = true)\n",
      "\n"
     ]
    }
   ],
   "source": [
    "df = df.withColumn(\"danceability\", col(\"danceability\").cast(\"float\"))\n",
    "df.printSchema()\n"
   ]
  },
  {
   "cell_type": "code",
   "execution_count": 13,
   "id": "15ce34a7-0523-4a4d-8eb7-30c9d450c864",
   "metadata": {},
   "outputs": [
    {
     "name": "stdout",
     "output_type": "stream",
     "text": [
      "+-------+-----+\n",
      "|  class|count|\n",
      "+-------+-----+\n",
      "|117.017|    1|\n",
      "|    4.0|  387|\n",
      "|    3.0|  402|\n",
      "|    7.0|  574|\n",
      "|    0.0|  625|\n",
      "|    1.0|  951|\n",
      "|    2.0| 1220|\n",
      "|    5.0| 1409|\n",
      "|    8.0| 1738|\n",
      "|    6.0| 2152|\n",
      "|    9.0| 2392|\n",
      "|   10.0| 4468|\n",
      "+-------+-----+\n",
      "\n"
     ]
    }
   ],
   "source": [
    "\n",
    "df.groupBy(\"class\").count().orderBy(\"count\").show()\n",
    "\n"
   ]
  },
  {
   "cell_type": "code",
   "execution_count": 14,
   "id": "29f98fa5-2515-4161-9bd7-44b150b89f2e",
   "metadata": {},
   "outputs": [
    {
     "name": "stdout",
     "output_type": "stream",
     "text": [
      "+-----+-----+\n",
      "|class|count|\n",
      "+-----+-----+\n",
      "|  4.0|  387|\n",
      "|  3.0|  402|\n",
      "|  7.0|  574|\n",
      "|  0.0|  625|\n",
      "|  1.0|  951|\n",
      "|  2.0| 1220|\n",
      "|  5.0| 1409|\n",
      "|  8.0| 1738|\n",
      "|  6.0| 2152|\n",
      "|  9.0| 2392|\n",
      "| 10.0| 4468|\n",
      "+-----+-----+\n",
      "\n"
     ]
    }
   ],
   "source": [
    "df_class= df.filter(df[\"class\"]!=117.017)\n",
    "df_final.groupBy(\"class\").count().orderBy(\"count\").show()"
   ]
  },
  {
   "cell_type": "code",
   "execution_count": 17,
   "id": "3a24ce22-eb96-4dec-bbd5-da42db9941a2",
   "metadata": {},
   "outputs": [
    {
     "name": "stdout",
     "output_type": "stream",
     "text": [
      "root\n",
      " |-- artist_name: string (nullable = true)\n",
      " |-- track_name: string (nullable = true)\n",
      " |-- popularity: float (nullable = false)\n",
      " |-- danceability: float (nullable = true)\n",
      " |-- energy: string (nullable = true)\n",
      " |-- key: double (nullable = false)\n",
      " |-- mode: double (nullable = true)\n",
      " |-- valence: double (nullable = true)\n",
      " |-- time_signature: double (nullable = true)\n",
      " |-- class: double (nullable = true)\n",
      " |-- artist_name_index: double (nullable = false)\n",
      " |-- track_name_index: double (nullable = false)\n",
      " |-- duration_in_ms_trans: double (nullable = true)\n",
      " |-- loudness_trans: double (nullable = true)\n",
      " |-- speechiness_trans: double (nullable = true)\n",
      " |-- acousticness_trans: double (nullable = true)\n",
      " |-- instrumentalness_trans: double (nullable = true)\n",
      " |-- liveness_trans: double (nullable = true)\n",
      " |-- tempo_trans: double (nullable = true)\n",
      "\n"
     ]
    }
   ],
   "source": [
    "df_final=df_final.drop(\"duration_in_min/ms\",\"loudness\",\"speechiness\",\"acousticness\",\"instrumentalness\",\"liveness\",\"tempo\")\n",
    "df_final.printSchema()"
   ]
  },
  {
   "cell_type": "code",
   "execution_count": 18,
   "id": "69b37e33-8108-4df5-b105-04e0bec24bef",
   "metadata": {},
   "outputs": [],
   "source": [
    "df_final.coalesce(1).write.mode(\"overwrite\").option(\"header\", \"true\").csv(\"hdfs://namenode:9000/data/data_clean_train.csv\")"
   ]
  },
  {
   "cell_type": "code",
   "execution_count": 21,
   "id": "300f0aa8-86d9-4d46-99a6-1f3cb7f049ee",
   "metadata": {},
   "outputs": [
    {
     "name": "stdout",
     "output_type": "stream",
     "text": [
      "root\n",
      " |-- artist_name: string (nullable = true)\n",
      " |-- track_name: string (nullable = true)\n",
      " |-- popularity: float (nullable = false)\n",
      " |-- danceability: float (nullable = true)\n",
      " |-- energy: string (nullable = true)\n",
      " |-- key: double (nullable = false)\n",
      " |-- mode: double (nullable = true)\n",
      " |-- valence: double (nullable = true)\n",
      " |-- time_signature: double (nullable = true)\n",
      " |-- class: double (nullable = true)\n",
      " |-- artist_name_index: double (nullable = false)\n",
      " |-- track_name_index: double (nullable = false)\n",
      " |-- duration_in_ms_trans: double (nullable = true)\n",
      " |-- loudness_trans: double (nullable = true)\n",
      " |-- speechiness_trans: double (nullable = true)\n",
      " |-- acousticness_trans: double (nullable = true)\n",
      " |-- instrumentalness_trans: double (nullable = true)\n",
      " |-- liveness_trans: double (nullable = true)\n",
      " |-- tempo_trans: double (nullable = true)\n",
      "\n"
     ]
    }
   ],
   "source": [
    "df_final.printSchema()"
   ]
  },
  {
   "cell_type": "code",
   "execution_count": 24,
   "id": "ddc70a09-ab08-4ae7-bdcd-25485dfe0076",
   "metadata": {},
   "outputs": [
    {
     "name": "stdout",
     "output_type": "stream",
     "text": [
      "root\n",
      " |-- popularity: float (nullable = false)\n",
      " |-- danceability: float (nullable = true)\n",
      " |-- energy: float (nullable = true)\n",
      " |-- key: double (nullable = false)\n",
      " |-- mode: double (nullable = true)\n",
      " |-- valence: double (nullable = true)\n",
      " |-- time_signature: double (nullable = true)\n",
      " |-- class: double (nullable = true)\n",
      " |-- artist_name_index: double (nullable = false)\n",
      " |-- track_name_index: double (nullable = false)\n",
      " |-- duration_in_ms_trans: double (nullable = true)\n",
      " |-- loudness_trans: double (nullable = true)\n",
      " |-- speechiness_trans: double (nullable = true)\n",
      " |-- acousticness_trans: double (nullable = true)\n",
      " |-- instrumentalness_trans: double (nullable = true)\n",
      " |-- liveness_trans: double (nullable = true)\n",
      " |-- tempo_trans: double (nullable = true)\n",
      "\n"
     ]
    }
   ],
   "source": [
    "df_final = df_final.withColumn(\"energy\", col(\"energy\").cast(\"float\"))\n",
    "df_train=df_final.drop(\"artist_name\",\"track_name\")\n",
    "df_train.printSchema()"
   ]
  },
  {
   "cell_type": "code",
   "execution_count": 25,
   "id": "8b1e56fc-4b1f-4521-b3c0-38bb3953b9bb",
   "metadata": {},
   "outputs": [],
   "source": [
    "from pyspark.ml.feature import VectorAssembler, StandardScaler \n",
    "from pyspark.ml.classification import GBTClassifier\n",
    "from pyspark.ml.evaluation import MulticlassClassificationEvaluator\n",
    "from pyspark.sql.functions import col\n",
    "feature_cols = [col for col in df_train.columns if col not in \"class\"]\n",
    "assembler = VectorAssembler(inputCols=feature_cols, outputCol=\"features_unscaled\")\n",
    "df_vec = assembler.transform(df_train)"
   ]
  },
  {
   "cell_type": "code",
   "execution_count": 26,
   "id": "566c14b9-c4df-4508-acc6-e0ba4ff29dd3",
   "metadata": {},
   "outputs": [],
   "source": [
    "scaler = StandardScaler(inputCol=\"features_unscaled\",outputCol=\"features\",withStd=True,withMean=True)\n",
    "scaler_model=scaler.fit(df_vec)\n",
    "df_scaled = scaler_model.transform(df_vec)"
   ]
  },
  {
   "cell_type": "code",
   "execution_count": 27,
   "id": "546a4783-a0a2-4464-94db-0b32bb129b98",
   "metadata": {},
   "outputs": [
    {
     "name": "stdout",
     "output_type": "stream",
     "text": [
      "+--------------------+\n",
      "|            features|\n",
      "+--------------------+\n",
      "|[-0.1173827908468...|\n",
      "|[0.51996184121788...|\n",
      "|[0.34614057792750...|\n",
      "|[-0.1753232119436...|\n",
      "|[-2.3191187925250...|\n",
      "+--------------------+\n",
      "only showing top 5 rows\n",
      "\n"
     ]
    }
   ],
   "source": [
    "df_scaled.select(\"features\").show(5)\n"
   ]
  },
  {
   "cell_type": "code",
   "execution_count": 11,
   "id": "d6bc15c2-d3e9-417f-ba17-33fb5d72e986",
   "metadata": {},
   "outputs": [
    {
     "name": "stdout",
     "output_type": "stream",
     "text": [
      "+-----+-----+\n",
      "|class|count|\n",
      "+-----+-----+\n",
      "|  4.0|  387|\n",
      "|  3.0|  402|\n",
      "|  7.0|  574|\n",
      "|  0.0|  625|\n",
      "|  1.0|  951|\n",
      "|  2.0| 1220|\n",
      "|  5.0| 1409|\n",
      "|  8.0| 1738|\n",
      "|  6.0| 2152|\n",
      "|  9.0| 2392|\n",
      "| 10.0| 4468|\n",
      "+-----+-----+\n",
      "\n",
      "+-----+\n",
      "|class|\n",
      "+-----+\n",
      "|  8.0|\n",
      "|  0.0|\n",
      "|  7.0|\n",
      "|  1.0|\n",
      "|  4.0|\n",
      "|  3.0|\n",
      "|  2.0|\n",
      "| 10.0|\n",
      "|  6.0|\n",
      "|  5.0|\n",
      "|  9.0|\n",
      "+-----+\n",
      "\n",
      "root\n",
      " |-- popularity: double (nullable = true)\n",
      " |-- key: double (nullable = true)\n",
      " |-- mode: double (nullable = true)\n",
      " |-- valence: double (nullable = true)\n",
      " |-- time_signature: double (nullable = true)\n",
      " |-- class: double (nullable = true)\n",
      " |-- duration_in_ms_trans: double (nullable = true)\n",
      " |-- loudness_trans: double (nullable = true)\n",
      " |-- speechiness_trans: double (nullable = true)\n",
      " |-- acousticness_trans: double (nullable = true)\n",
      " |-- instrumentalness_trans: double (nullable = true)\n",
      " |-- liveness_trans: double (nullable = true)\n",
      " |-- tempo_trans: double (nullable = true)\n",
      " |-- danceability_index: double (nullable = false)\n",
      " |-- features_unscaled: vector (nullable = true)\n",
      " |-- features: vector (nullable = true)\n",
      "\n"
     ]
    }
   ],
   "source": [
    "df_scaled.groupBy(\"class\").count().orderBy(\"count\").show()\n",
    "# Kiểm tra các giá trị duy nhất trong cột class\n",
    "df_scaled.select(\"class\").distinct().show()\n",
    "df_scaled.printSchema()"
   ]
  },
  {
   "cell_type": "code",
   "execution_count": 28,
   "id": "d838a637-ae10-4aff-95d1-7107c11311ed",
   "metadata": {},
   "outputs": [],
   "source": [
    "(training_data, testing_data) = df_scaled.randomSplit([0.7, 0.3], seed=42)"
   ]
  },
  {
   "cell_type": "code",
   "execution_count": 29,
   "id": "1f047202-ae0f-4ed5-b65a-822434b9b72f",
   "metadata": {},
   "outputs": [
    {
     "data": {
      "text/plain": [
       "DataFrame[popularity: float, danceability: float, energy: float, key: double, mode: double, valence: double, time_signature: double, class: double, artist_name_index: double, track_name_index: double, duration_in_ms_trans: double, loudness_trans: double, speechiness_trans: double, acousticness_trans: double, instrumentalness_trans: double, liveness_trans: double, tempo_trans: double, features_unscaled: vector, features: vector]"
      ]
     },
     "execution_count": 29,
     "metadata": {},
     "output_type": "execute_result"
    }
   ],
   "source": [
    "\n",
    "training_data.cache()"
   ]
  },
  {
   "cell_type": "code",
   "execution_count": 31,
   "id": "25e7de07-1398-492f-824e-62c495daa937",
   "metadata": {},
   "outputs": [
    {
     "name": "stdout",
     "output_type": "stream",
     "text": [
      "root\n",
      " |-- popularity: float (nullable = false)\n",
      " |-- danceability: float (nullable = true)\n",
      " |-- energy: float (nullable = true)\n",
      " |-- key: double (nullable = false)\n",
      " |-- mode: double (nullable = true)\n",
      " |-- valence: double (nullable = true)\n",
      " |-- time_signature: double (nullable = true)\n",
      " |-- class: double (nullable = true)\n",
      " |-- artist_name_index: double (nullable = false)\n",
      " |-- track_name_index: double (nullable = false)\n",
      " |-- duration_in_ms_trans: double (nullable = true)\n",
      " |-- loudness_trans: double (nullable = true)\n",
      " |-- speechiness_trans: double (nullable = true)\n",
      " |-- acousticness_trans: double (nullable = true)\n",
      " |-- instrumentalness_trans: double (nullable = true)\n",
      " |-- liveness_trans: double (nullable = true)\n",
      " |-- tempo_trans: double (nullable = true)\n",
      " |-- features_unscaled: vector (nullable = true)\n",
      " |-- features: vector (nullable = true)\n",
      "\n"
     ]
    }
   ],
   "source": [
    "training_data.printSchema()"
   ]
  },
  {
   "cell_type": "markdown",
   "id": "b6841353-64a4-4a88-9185-7a548d3e81f3",
   "metadata": {},
   "source": [
    " randomForestClassifier \n"
   ]
  },
  {
   "cell_type": "code",
   "execution_count": null,
   "id": "4b29c3a8-9c83-416c-b989-e4ff11bd9de2",
   "metadata": {},
   "outputs": [],
   "source": [
    " # train\n",
    "from pyspark.ml.classification import RandomForestClassifier\n",
    "\n",
    "rf = RandomForestClassifier(\n",
    "    labelCol=\"class\",\n",
    "    featuresCol=\"features\",\n",
    "    numTrees=80,\n",
    "    maxDepth=10,\n",
    "    seed=42\n",
    ")\n",
    "rf_model = rf.fit(training_data)\n",
    "rf_predictions = rf_model.transform(testing_data)"
   ]
  },
  {
   "cell_type": "code",
   "execution_count": 15,
   "id": "20293bfb-70b3-4f0e-9526-4fbdb9dfeb32",
   "metadata": {},
   "outputs": [
    {
     "name": "stdout",
     "output_type": "stream",
     "text": [
      "Random Forest Accuracy = 0.460559265442404\n"
     ]
    }
   ],
   "source": [
    "from pyspark.ml.evaluation import MulticlassClassificationEvaluator\n",
    "rf_evaluator = MulticlassClassificationEvaluator(\n",
    "    labelCol=\"class\", \n",
    "    predictionCol=\"prediction\", \n",
    "    metricName=\"accuracy\"\n",
    ")\n",
    "rf_accuracy = rf_evaluator.evaluate(rf_predictions)\n",
    "print(f\"Random Forest Accuracy = {rf_accuracy}\")"
   ]
  },
  {
   "cell_type": "code",
   "execution_count": 16,
   "id": "66f8ebf4-b791-4df4-8424-8206a7bccfcc",
   "metadata": {},
   "outputs": [
    {
     "name": "stdout",
     "output_type": "stream",
     "text": [
      "Random Forest F1 Score = 0.4098084333302436\n"
     ]
    }
   ],
   "source": [
    "rf_f1_evaluator = MulticlassClassificationEvaluator(\n",
    "    labelCol=\"class\", \n",
    "    predictionCol=\"prediction\", \n",
    "    metricName=\"f1\"\n",
    ")\n",
    "rf_f1 = rf_f1_evaluator.evaluate(rf_predictions)\n",
    "print(f\"Random Forest F1 Score = {rf_f1}\")"
   ]
  },
  {
   "cell_type": "code",
   "execution_count": 17,
   "id": "9178a919-226a-49a8-a4a6-87a0d3dda99b",
   "metadata": {},
   "outputs": [],
   "source": [
    "from pyspark.ml.classification import RandomForestClassifier, LogisticRegression, LinearSVC, NaiveBayes, OneVsRest\n",
    "from pyspark.ml.evaluation import MulticlassClassificationEvaluator\n",
    "from pyspark.ml.tuning import ParamGridBuilder, CrossValidator"
   ]
  },
  {
   "cell_type": "code",
   "execution_count": 18,
   "id": "f4b6873a-e1d9-4b90-af40-de43e15a1328",
   "metadata": {},
   "outputs": [],
   "source": [
    "# rf1 = RandomForestClassifier(labelCol=\"class\", featuresCol=\"features\")\n",
    "# paramGridrf = ParamGridBuilder() \\\n",
    "#         .addGrid(rf1.numTrees, [50, 100, 200]) \\\n",
    "#         .addGrid(rf1.maxDepth, [5, 10, 15]) \\\n",
    "#         .build()\n",
    "# cv1 = CrossValidator(\n",
    "#         estimator=rf1,\n",
    "#         estimatorParamMaps=paramGridrf,\n",
    "#         evaluator=MulticlassClassificationEvaluator(labelCol=\"class\", predictionCol=\"prediction\", metricName=\"accuracy\"),\n",
    "#         numFolds=3\n",
    "#     )\n",
    "\n",
    "# cv_model = cv1.fit(training_data)\n",
    "# best_rf_model = cv_model.bestModel\n",
    "# best_predictions = best_rf_model.transform(testing_data)\n",
    "# best_accuracy = rf_evaluator.evaluate(best_predictions)\n",
    "# print(f\"Random Forest tối ưu - Accuracy: {best_accuracy:.4f}\")"
   ]
  },
  {
   "cell_type": "markdown",
   "id": "3c83d40c-2e93-4b89-b914-1259fd9870c2",
   "metadata": {},
   "source": [
    "## Logistic Regression với OneVsRest"
   ]
  },
  {
   "cell_type": "code",
   "execution_count": 19,
   "id": "ca758add-98a2-47d5-a0be-b74b53e1a151",
   "metadata": {},
   "outputs": [
    {
     "name": "stdout",
     "output_type": "stream",
     "text": [
      "hello\n"
     ]
    }
   ],
   "source": [
    "print(\"hello\")"
   ]
  },
  {
   "cell_type": "code",
   "execution_count": null,
   "id": "a0f372d5-9168-4d79-9bd0-7716e10f17ca",
   "metadata": {},
   "outputs": [],
   "source": []
  },
  {
   "cell_type": "code",
   "execution_count": 20,
   "id": "0971715b-9fc0-40a3-a73f-3b14bfaf040b",
   "metadata": {},
   "outputs": [],
   "source": [
    "lr = LogisticRegression(\n",
    "    labelCol=\"class\",\n",
    "    featuresCol=\"features\",\n",
    "    maxIter=80,\n",
    "    regParam=0.1\n",
    ")\n",
    "ovr_lr = OneVsRest(classifier=lr, labelCol=\"class\")\n",
    "ovr_lr_model = ovr_lr.fit(training_data)\n",
    "ovr_lr_predictions = ovr_lr_model.transform(testing_data)"
   ]
  },
  {
   "cell_type": "code",
   "execution_count": 21,
   "id": "07c2622e-499a-4652-ae9c-1685a09167de",
   "metadata": {},
   "outputs": [],
   "source": [
    "# lr_accuracy = rf_evaluator.evaluate(ovr_lr_predictions)\n",
    "# print(f\"Logistic Regression Accuracy = {lr_accuracy}\")\n"
   ]
  },
  {
   "cell_type": "code",
   "execution_count": 22,
   "id": "ea297b4c-e3fc-4eab-a182-b4a89856c452",
   "metadata": {},
   "outputs": [],
   "source": [
    "# from pyspark.ml.classification import GBTClassifier, OneVsRest\n",
    "\n",
    "# gbt = GBTClassifier(labelCol=\"class\", featuresCol=\"features\", maxIter=10,maxDepth=3)\n",
    "# ovr = OneVsRest(classifier=gbt, labelCol=\"class\")\n",
    "\n",
    "# ovr_model = ovr.fit(training_data)\n",
    "# predictions = ovr_model.transform(testing_data)\n",
    "# evaluator = MulticlassClassificationEvaluator(\n",
    "#     labelCol=\"class\",\n",
    "#     predictionCol=\"prediction\",\n",
    "#     metricName=\"accuracy\"\n",
    "# )\n",
    "\n",
    "# accuracy = evaluator.evaluate(predictions)\n",
    "# print(f\"GBT classfier Accuracy = {accuracy:.4f}\")"
   ]
  },
  {
   "cell_type": "code",
   "execution_count": 23,
   "id": "b3320a52-cf4d-471e-89c3-56fbe23f21e1",
   "metadata": {},
   "outputs": [],
   "source": [
    "# training_data.show(5)"
   ]
  },
  {
   "cell_type": "code",
   "execution_count": 24,
   "id": "1ebfd857-45ab-423b-b50b-d11043f497d5",
   "metadata": {},
   "outputs": [
    {
     "name": "stdout",
     "output_type": "stream",
     "text": [
      "hello\n"
     ]
    }
   ],
   "source": [
    "print(\"hello\")"
   ]
  },
  {
   "cell_type": "code",
   "execution_count": 25,
   "id": "9c716747-ae48-47f6-9c02-5d7ff0130511",
   "metadata": {},
   "outputs": [],
   "source": [
    "from pyspark.ml.classification import DecisionTreeClassifier"
   ]
  },
  {
   "cell_type": "code",
   "execution_count": 26,
   "id": "99636904-d8c2-4c37-9da3-45708135f2d1",
   "metadata": {},
   "outputs": [],
   "source": [
    "# dt = DecisionTreeClassifier(labelCol=\"class\", featuresCol=\"features\")"
   ]
  },
  {
   "cell_type": "code",
   "execution_count": 27,
   "id": "e1702f30-16d6-4546-8ee1-1591745618f1",
   "metadata": {},
   "outputs": [],
   "source": [
    "# paramGrid = ParamGridBuilder() \\\n",
    "#     .addGrid(dt.maxDepth, [5, 10, 15]) \\\n",
    "#     .addGrid(dt.maxBins, [32, 64, 128]) \\\n",
    "#     .build()"
   ]
  },
  {
   "cell_type": "code",
   "execution_count": 28,
   "id": "850ecf5b-a694-40a4-9f9f-b330a0f1b321",
   "metadata": {},
   "outputs": [],
   "source": [
    "# cv = CrossValidator(\n",
    "#     estimator=dt,\n",
    "#     estimatorParamMaps=paramGrid,\n",
    "#     evaluator=MulticlassClassificationEvaluator(labelCol=\"class\", predictionCol=\"prediction\", metricName=\"accuracy\"),\n",
    "#     numFolds=3\n",
    "# )"
   ]
  },
  {
   "cell_type": "code",
   "execution_count": 29,
   "id": "ff5674bd-f61e-4049-8243-feffbd0894e9",
   "metadata": {},
   "outputs": [
    {
     "name": "stdout",
     "output_type": "stream",
     "text": [
      "+----------+----+----+-------+--------------+-----+--------------------+-------------------+------------------+-------------------+----------------------+--------------------+-----------------+------------------+--------------------+--------------------+\n",
      "|popularity| key|mode|valence|time_signature|class|duration_in_ms_trans|     loudness_trans| speechiness_trans| acousticness_trans|instrumentalness_trans|      liveness_trans|      tempo_trans|danceability_index|   features_unscaled|            features|\n",
      "+----------+----+----+-------+--------------+-----+--------------------+-------------------+------------------+-------------------+----------------------+--------------------+-----------------+------------------+--------------------+--------------------+\n",
      "|       1.0|-1.0| 1.0|   0.13|           4.0|  9.0|   443.4715323219744|-1.6860449276870335| 31.54474622251664| 0.6502957234256935|    -5.554242407386626|  -1.093621762086899|5.211255206745604|             405.0|[1.0,-1.0,1.0,0.1...|[-2.4930125329800...|\n",
      "|       1.0|-1.0| 1.0|  0.162|           3.0|  0.0|   552.9439391113714| -2.135086991210372|22.572853885916796| 0.5561297766521235|   -1.8971133182414368|  -2.473361551648481| 4.41844870930683|             579.0|[1.0,-1.0,1.0,0.1...|[-2.4930125329800...|\n",
      "|       1.0|-1.0| 1.0|  0.544|           4.0|  2.0|   422.8474902373195|-2.4445944964515696|19.801588087364603| 0.9922737927923035|   -5.4653169072442065| -2.0325503222223347|5.066290561494048|              26.0|[1.0,-1.0,1.0,0.5...|[-2.4930125329800...|\n",
      "|       1.0|-1.0| 1.0|  0.773|           4.0|  2.0|   425.1435051838379| -2.472771179885134| 14.51357745170607| 0.9953113845755248|    -2.409046214095905|   -2.12025520290148|4.518328538533531|             268.0|[1.0,-1.0,1.0,0.7...|[-2.4930125329800...|\n",
      "|       1.0| 1.0| 0.0|  0.587|           4.0|  9.0|   425.3504437519726|-2.2859891782481148|19.684651876931557| 0.8429638310387759|    -6.939245946073508|  -2.345482155646441|5.065498249348543|              37.0|[1.0,1.0,0.0,0.58...|[-2.4930125329800...|\n",
      "|       1.0| 1.0| 1.0| 0.0381|           1.0|  0.0|   544.8183183594326|-2.1309108787542574|36.495018429984306| 0.6282761304782786|    -6.406374114044146| -2.2827726618243553|4.702036238557206|             130.0|[1.0,1.0,1.0,0.03...|[-2.4930125329800...|\n",
      "|       1.0| 1.0| 1.0|  0.498|           4.0| 10.0|   651.0299532279602|-1.5713656015695994|15.060014156413306| 0.8310694107104097|   -1.1874402236915758|  -1.248269578908029| 4.87235578715775|             275.0|[1.0,1.0,1.0,0.49...|[-2.4930125329800...|\n",
      "|       1.0| 1.0| 1.0|   0.52|           4.0|  0.0|   479.1210702943464| -2.196689235027742|24.629935223270365| 0.9531749727449074|    -5.554242407386626|  -2.154156467223275|4.382749259146394|              88.0|[1.0,1.0,1.0,0.52...|[-2.4930125329800...|\n",
      "|       1.0| 1.0| 1.0|  0.783|           4.0|  6.0|  418.84006494126135|-1.7856889901178665|31.644568209866772| 0.5934472140399941|    -7.550209345226564| -2.5704514663396587| 5.58305892069804|             110.0|[1.0,1.0,1.0,0.78...|[-2.4930125329800...|\n",
      "|       1.0| 2.0| 1.0|  0.181|           4.0|  9.0|   491.8261888106407|-1.9297263968239524|29.672710008605083| 0.6686883076988654|    -5.554242407386626|   -2.23491709876951|4.067883120217612|             157.0|[1.0,2.0,1.0,0.18...|[-2.4930125329800...|\n",
      "|       1.0| 2.0| 1.0|  0.262|           4.0|  9.0|  496.66890377795954|-1.9120198290457109| 30.21056765656627|  0.395149758948387|    -5.554242407386626|  -2.479310338391075|5.645452785299141|             473.0|[1.0,2.0,1.0,0.26...|[-2.4930125329800...|\n",
      "|       1.0| 2.0| 1.0|  0.289|           4.0|  6.0|   429.4566334334586|-1.8517878990260128|28.408283855572282| 0.5798889997648997|   -3.7592590008765168|  -2.103726037561162|4.919208236218543|             153.0|[1.0,2.0,1.0,0.28...|[-2.4930125329800...|\n",
      "|       1.0| 2.0| 1.0|  0.434|           3.0|  3.0|   556.2319660177757| -2.086764833692201| 20.78958857404212| 0.9781946493017497|    -5.554242407386626|  -1.402419678017386|4.274118920595505|             427.0|[1.0,2.0,1.0,0.43...|[-2.4930125329800...|\n",
      "|       1.0| 2.0| 1.0|   0.96|           3.0|  3.0|  173.49063375294935|-2.4796209965392975| 1.841617234590728| 0.9619001716077047|    -10.66705719739262|  -2.351764833038305|4.403990869482086|              96.0|[1.0,2.0,1.0,0.96...|[-2.4930125329800...|\n",
      "|       1.0| 4.0| 0.0|  0.752|           4.0|  5.0|   476.4588124906496|-1.7777086199948957| 4.032241805476591| 0.4456368443459195|    -5.554242407386626| -2.5471949046748517|4.794104451635576|             468.0|[1.0,4.0,0.0,0.75...|[-2.4930125329800...|\n",
      "|       1.0| 4.0| 1.0|  0.155|           4.0|  9.0|  491.75908735884076|-2.0139031275692103| 35.21002781592197| 0.7915783219360811|   -11.840041606667416| -2.1455727972123593|5.309901982271234|             347.0|[1.0,4.0,1.0,0.15...|[-2.4930125329800...|\n",
      "|       1.0| 4.0| 1.0|  0.201|           4.0| 10.0|   511.9062414153592|-2.3686311357939815|15.822534453568771|0.26730748660601883|   -11.176453228349015|-0.03355574940321404|4.978790155719888|             243.0|[1.0,4.0,1.0,0.20...|[-2.4930125329800...|\n",
      "|       1.0| 4.0| 1.0|   0.96|           4.0|  1.0|   671.2279791546238|-1.9432375882094381|16.207192752143403|0.16938648519858512|  -0.22815483685713603| -1.9038022616498034|5.000479953927371|              57.0|[1.0,4.0,1.0,0.96...|[-2.4930125329800...|\n",
      "|       1.0| 5.0| 1.0|  0.487|           4.0|  2.0|   395.4402609750302|-1.9468500536143079|25.574793483542617| 0.9915962413403874|    -4.509769101224839| -2.3783760189819962|4.343085858469635|             277.0|[1.0,5.0,1.0,0.48...|[-2.4930125329800...|\n",
      "|       1.0| 6.0| 0.0|  0.309|           4.0|  0.0|     611.69028109003|-1.8797479668174815|28.408283855572282|0.12986178604402843|   -10.008848068193954| -1.9241418079821886|4.337600661512398|             562.0|[1.0,6.0,0.0,0.30...|[-2.4930125329800...|\n",
      "+----------+----+----+-------+--------------+-----+--------------------+-------------------+------------------+-------------------+----------------------+--------------------+-----------------+------------------+--------------------+--------------------+\n",
      "only showing top 20 rows\n",
      "\n"
     ]
    }
   ],
   "source": [
    "training_data.show()"
   ]
  },
  {
   "cell_type": "code",
   "execution_count": 30,
   "id": "a377b5bb-bf47-48be-805b-36cca844a61a",
   "metadata": {},
   "outputs": [],
   "source": [
    "# cv_model = cv.fit(training_data)\n",
    "# best_dt_model = cv_model.bestModel\n",
    "# best_predictions = best_dt_model.transform(testing_data)\n",
    "# evaluator = MulticlassClassificationEvaluator(labelCol=\"class\", predictionCol=\"prediction\", metricName=\"accuracy\")\n",
    "# best_accuracy = evaluator.evaluate(best_predictions)\n",
    "\n",
    "# print(f\"Decision Tree tối ưu - Accuracy: {best_accuracy:.4f}\")"
   ]
  },
  {
   "cell_type": "code",
   "execution_count": 31,
   "id": "0c1f2d3a-ece3-4542-be56-a010ef5515b0",
   "metadata": {},
   "outputs": [],
   "source": [
    "training_data_nai = training_data.withColumn(\"class\", col(\"class\").cast(\"integer\"))\n",
    "testing_data_nai = testing_data.withColumn(\"class\", col(\"class\").cast(\"integer\"))\n"
   ]
  },
  {
   "cell_type": "code",
   "execution_count": 32,
   "id": "d2c06721-d5a9-417a-a1b0-0d912158d43c",
   "metadata": {},
   "outputs": [],
   "source": [
    "from pyspark.ml.feature import MinMaxScaler\n",
    "\n",
    "# Giả sử 'features' là cột vector và bạn muốn chuẩn hóa các giá trị trong vector\n",
    "scaler = MinMaxScaler(inputCol=\"features\", outputCol=\"scaled_features\")\n",
    "training_data_scaled = scaler.fit(training_data).transform(training_data)\n",
    "testing_data_scaled= scaler.fit(testing_data).transform(testing_data)"
   ]
  },
  {
   "cell_type": "code",
   "execution_count": 33,
   "id": "cc02877b-259a-446c-a560-5c9c7b88291b",
   "metadata": {},
   "outputs": [
    {
     "name": "stdout",
     "output_type": "stream",
     "text": [
      "+----------+----+----+-------+--------------+-----+--------------------+-------------------+------------------+------------------+----------------------+-------------------+-----------------+------------------+--------------------+--------------------+--------------------+\n",
      "|popularity| key|mode|valence|time_signature|class|duration_in_ms_trans|     loudness_trans| speechiness_trans|acousticness_trans|instrumentalness_trans|     liveness_trans|      tempo_trans|danceability_index|   features_unscaled|            features|     scaled_features|\n",
      "+----------+----+----+-------+--------------+-----+--------------------+-------------------+------------------+------------------+----------------------+-------------------+-----------------+------------------+--------------------+--------------------+--------------------+\n",
      "|       1.0|-1.0| 1.0|   0.13|           4.0|  9.0|   443.4715323219744|-1.6860449276870335| 31.54474622251664|0.6502957234256935|    -5.554242407386626| -1.093621762086899|5.211255206745604|             405.0|[1.0,-1.0,1.0,0.1...|[-2.4930125329800...|[0.0,0.0,1.0,0.11...|\n",
      "|       1.0|-1.0| 1.0|  0.162|           3.0|  0.0|   552.9439391113714| -2.135086991210372|22.572853885916796|0.5561297766521235|   -1.8971133182414368| -2.473361551648481| 4.41844870930683|             579.0|[1.0,-1.0,1.0,0.1...|[-2.4930125329800...|[0.0,0.0,1.0,0.14...|\n",
      "|       1.0|-1.0| 1.0|  0.544|           4.0|  2.0|   422.8474902373195|-2.4445944964515696|19.801588087364603|0.9922737927923035|   -5.4653169072442065|-2.0325503222223347|5.066290561494048|              26.0|[1.0,-1.0,1.0,0.5...|[-2.4930125329800...|[0.0,0.0,1.0,0.54...|\n",
      "|       1.0|-1.0| 1.0|  0.773|           4.0|  2.0|   425.1435051838379| -2.472771179885134| 14.51357745170607|0.9953113845755248|    -2.409046214095905|  -2.12025520290148|4.518328538533531|             268.0|[1.0,-1.0,1.0,0.7...|[-2.4930125329800...|[0.0,0.0,1.0,0.78...|\n",
      "|       1.0| 1.0| 0.0|  0.587|           4.0|  9.0|   425.3504437519726|-2.2859891782481148|19.684651876931557|0.8429638310387759|    -6.939245946073508| -2.345482155646441|5.065498249348543|              37.0|[1.0,1.0,0.0,0.58...|[-2.4930125329800...|[0.0,0.1666666666...|\n",
      "+----------+----+----+-------+--------------+-----+--------------------+-------------------+------------------+------------------+----------------------+-------------------+-----------------+------------------+--------------------+--------------------+--------------------+\n",
      "only showing top 5 rows\n",
      "\n"
     ]
    }
   ],
   "source": [
    "training_data_scaled.show(5)"
   ]
  },
  {
   "cell_type": "code",
   "execution_count": 34,
   "id": "70571e7c-950c-4471-99f4-9adce638f516",
   "metadata": {},
   "outputs": [],
   "source": [
    "from pyspark.sql.functions import col\n",
    "\n",
    "\n",
    "\n",
    "nb = NaiveBayes(\n",
    "    labelCol=\"class\",\n",
    "    featuresCol=\"scaled_features\",\n",
    "    modelType=\"multinomial\"\n",
    ")\n",
    "\n",
    "nb_model = nb.fit(training_data_scaled)"
   ]
  },
  {
   "cell_type": "code",
   "execution_count": 36,
   "id": "f3642a8b-3624-438c-b61b-24988d26a719",
   "metadata": {},
   "outputs": [],
   "source": [
    "nb_predictions = nb_model.transform(testing_data_scaled)\n"
   ]
  },
  {
   "cell_type": "code",
   "execution_count": 37,
   "id": "e9690771-383c-4418-a039-af81d7b879f0",
   "metadata": {},
   "outputs": [
    {
     "name": "stdout",
     "output_type": "stream",
     "text": [
      "Naive Bayes Accuracy = 0.21556761268781302\n",
      "Naive Bayes F1 Score = 0.11660394552652997\n"
     ]
    }
   ],
   "source": [
    "nb_accuracy = rf_evaluator.evaluate(nb_predictions)\n",
    "print(f\"Naive Bayes Accuracy = {nb_accuracy}\")\n",
    "nb_f1 = rf_f1_evaluator.evaluate(nb_predictions)\n",
    "print(f\"Naive Bayes F1 Score = {nb_f1}\")"
   ]
  },
  {
   "cell_type": "code",
   "execution_count": 38,
   "id": "bc31eb76-7c0d-4953-aac3-44ebef4915c4",
   "metadata": {},
   "outputs": [
    {
     "name": "stdout",
     "output_type": "stream",
     "text": [
      "+----------+----+----+-------+--------------+-----+--------------------+-------------------+------------------+------------------+----------------------+-------------------+-----------------+------------------+--------------------+--------------------+\n",
      "|popularity| key|mode|valence|time_signature|class|duration_in_ms_trans|     loudness_trans| speechiness_trans|acousticness_trans|instrumentalness_trans|     liveness_trans|      tempo_trans|danceability_index|   features_unscaled|            features|\n",
      "+----------+----+----+-------+--------------+-----+--------------------+-------------------+------------------+------------------+----------------------+-------------------+-----------------+------------------+--------------------+--------------------+\n",
      "|       1.0|-1.0| 1.0|   0.13|           4.0|  9.0|   443.4715323219744|-1.6860449276870335| 31.54474622251664|0.6502957234256935|    -5.554242407386626| -1.093621762086899|5.211255206745604|             405.0|[1.0,-1.0,1.0,0.1...|[-2.4930125329800...|\n",
      "|       1.0|-1.0| 1.0|  0.162|           3.0|  0.0|   552.9439391113714| -2.135086991210372|22.572853885916796|0.5561297766521235|   -1.8971133182414368| -2.473361551648481| 4.41844870930683|             579.0|[1.0,-1.0,1.0,0.1...|[-2.4930125329800...|\n",
      "|       1.0|-1.0| 1.0|  0.544|           4.0|  2.0|   422.8474902373195|-2.4445944964515696|19.801588087364603|0.9922737927923035|   -5.4653169072442065|-2.0325503222223347|5.066290561494048|              26.0|[1.0,-1.0,1.0,0.5...|[-2.4930125329800...|\n",
      "|       1.0|-1.0| 1.0|  0.773|           4.0|  2.0|   425.1435051838379| -2.472771179885134| 14.51357745170607|0.9953113845755248|    -2.409046214095905|  -2.12025520290148|4.518328538533531|             268.0|[1.0,-1.0,1.0,0.7...|[-2.4930125329800...|\n",
      "|       1.0| 1.0| 0.0|  0.587|           4.0|  9.0|   425.3504437519726|-2.2859891782481148|19.684651876931557|0.8429638310387759|    -6.939245946073508| -2.345482155646441|5.065498249348543|              37.0|[1.0,1.0,0.0,0.58...|[-2.4930125329800...|\n",
      "+----------+----+----+-------+--------------+-----+--------------------+-------------------+------------------+------------------+----------------------+-------------------+-----------------+------------------+--------------------+--------------------+\n",
      "only showing top 5 rows\n",
      "\n"
     ]
    }
   ],
   "source": [
    "training_data.show(5)"
   ]
  },
  {
   "cell_type": "code",
   "execution_count": 39,
   "id": "73b0bb4e-c237-4e59-ac5a-6003b2bd8d68",
   "metadata": {},
   "outputs": [],
   "source": [
    "# model_path = \"hdfs://namenode:9000/user/root/random_forest_model\"\n",
    "# rf_model.save(model_path)\n"
   ]
  },
  {
   "cell_type": "code",
   "execution_count": null,
   "id": "b114ac1d-572a-48cc-830f-81275802eca4",
   "metadata": {},
   "outputs": [],
   "source": []
  }
 ],
 "metadata": {
  "kernelspec": {
   "display_name": "Python 3 (ipykernel)",
   "language": "python",
   "name": "python3"
  },
  "language_info": {
   "codemirror_mode": {
    "name": "ipython",
    "version": 3
   },
   "file_extension": ".py",
   "mimetype": "text/x-python",
   "name": "python",
   "nbconvert_exporter": "python",
   "pygments_lexer": "ipython3",
   "version": "3.11.4"
  }
 },
 "nbformat": 4,
 "nbformat_minor": 5
}
