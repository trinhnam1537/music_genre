{
 "cells": [
  {
   "cell_type": "code",
   "execution_count": 1,
   "id": "a4046832-f06a-4b96-a583-04144a8ee607",
   "metadata": {},
   "outputs": [
    {
     "name": "stdout",
     "output_type": "stream",
     "text": [
      "Requirement already satisfied: pyspark in /usr/local/spark/python (3.4.0)\n",
      "Collecting findspark\n",
      "  Downloading findspark-2.0.1-py2.py3-none-any.whl (4.4 kB)\n",
      "Collecting py4j==0.10.9.7 (from pyspark)\n",
      "  Downloading py4j-0.10.9.7-py2.py3-none-any.whl (200 kB)\n",
      "\u001b[2K     \u001b[90m━━━━━━━━━━━━━━━━━━━━━━━━━━━━━━━━━━━━━\u001b[0m \u001b[32m200.5/200.5 kB\u001b[0m \u001b[31m497.7 kB/s\u001b[0m eta \u001b[36m0:00:00\u001b[0ma \u001b[36m0:00:01\u001b[0m\n",
      "\u001b[?25hInstalling collected packages: py4j, findspark\n",
      "Successfully installed findspark-2.0.1 py4j-0.10.9.7\n"
     ]
    }
   ],
   "source": [
    "!pip install pyspark findspark\n"
   ]
  },
  {
   "cell_type": "code",
   "execution_count": 3,
   "id": "128ea7a7-cc65-4cbf-bc7f-c441a6ffff3c",
   "metadata": {},
   "outputs": [],
   "source": [
    "def warn(*args, **kwargs):\n",
    "    pass\n",
    "import warnings\n",
    "warnings.warn = warn\n",
    "warnings.filterwarnings('ignore')\n",
    "import findspark\n",
    "findspark.init()"
   ]
  },
  {
   "cell_type": "code",
   "execution_count": 4,
   "id": "23d01216-55e2-4549-9221-cc7fbf16e8ff",
   "metadata": {},
   "outputs": [],
   "source": [
    "from pyspark.sql import SparkSession\n",
    "from pyspark.ml.feature import StringIndexer\n",
    "from pyspark.sql.functions import when, col,sqrt, cbrt,log, expr,sum\n",
    "from pyspark.ml import Pipeline\n",
    "from pyspark.sql import SparkSession\n",
    "from pyspark.ml.feature import StringIndexer"
   ]
  },
  {
   "cell_type": "code",
   "execution_count": 5,
   "id": "19cf3c23-2432-4b84-93a1-d4ad1cc8d6f4",
   "metadata": {},
   "outputs": [],
   "source": [
    "\n",
    "spark = SparkSession.builder.appName(\"MusicClassifier\").master(\"spark://spark-master:7077\").getOrCreate()\n",
    "\n"
   ]
  },
  {
   "cell_type": "code",
   "execution_count": 4,
   "id": "4b583959-910d-4ebe-806c-b0e63128ce3d",
   "metadata": {},
   "outputs": [
    {
     "name": "stdout",
     "output_type": "stream",
     "text": [
      "+--------------------+--------------------+----------+------------+------+----+--------+----+-----------+------------+----------------+--------+-------+-------+------------------+--------------+-----+\n",
      "|         Artist Name|          Track Name|Popularity|danceability|energy| key|loudness|mode|speechiness|acousticness|instrumentalness|liveness|valence|  tempo|duration_in min/ms|time_signature|Class|\n",
      "+--------------------+--------------------+----------+------------+------+----+--------+----+-----------+------------+----------------+--------+-------+-------+------------------+--------------+-----+\n",
      "|          Bruno Mars|That's What I Lik...|      60.0|       0.854| 0.564| 1.0|  -4.964| 1.0|     0.0485|      0.0171|            null|  0.0849|  0.899|134.071|          234596.0|           4.0|  5.0|\n",
      "|              Boston|        Hitch a Ride|      54.0|       0.382| 0.814| 3.0|   -7.23| 1.0|     0.0406|      0.0011|         0.00401|   0.101|  0.569|116.454|          251733.0|           4.0| 10.0|\n",
      "|       The Raincoats|  No Side to Fall In|      35.0|       0.434| 0.614| 6.0|  -8.334| 1.0|     0.0525|       0.486|         1.96E-4|   0.394|  0.787|147.681|          109667.0|           4.0|  6.0|\n",
      "|                Deno|Lingo (feat. J.I ...|      66.0|       0.853| 0.597|10.0|  -6.528| 0.0|     0.0555|      0.0212|            null|   0.122|  0.569|107.033|          173968.0|           4.0|  5.0|\n",
      "|Red Hot Chili Pep...|Nobody Weird Like...|      53.0|       0.167| 0.975| 2.0|  -4.279| 1.0|      0.216|     1.69E-4|          0.0161|   0.172| 0.0918| 199.06|          229960.0|           4.0| 10.0|\n",
      "+--------------------+--------------------+----------+------------+------+----+--------+----+-----------+------------+----------------+--------+-------+-------+------------------+--------------+-----+\n",
      "only showing top 5 rows\n",
      "\n"
     ]
    }
   ],
   "source": [
    "df = spark.read.csv(\"hdfs://namenode:9000/data/train.csv\", header=True, inferSchema=True)\n",
    "df.show(5)\n"
   ]
  },
  {
   "cell_type": "code",
   "execution_count": 1,
   "id": "04dabe39-ac77-4f9b-8dbc-bf4e0718422f",
   "metadata": {},
   "outputs": [
    {
     "ename": "NameError",
     "evalue": "name 'df' is not defined",
     "output_type": "error",
     "traceback": [
      "\u001b[0;31m---------------------------------------------------------------------------\u001b[0m",
      "\u001b[0;31mNameError\u001b[0m                                 Traceback (most recent call last)",
      "Cell \u001b[0;32mIn[1], line 1\u001b[0m\n\u001b[0;32m----> 1\u001b[0m \u001b[43mdf\u001b[49m\u001b[38;5;241m.\u001b[39mcache()\n",
      "\u001b[0;31mNameError\u001b[0m: name 'df' is not defined"
     ]
    }
   ],
   "source": [
    "df.cache()"
   ]
  },
  {
   "cell_type": "code",
   "execution_count": 5,
   "id": "23d6f700-c593-439f-a0d2-d2dc902d9b0c",
   "metadata": {},
   "outputs": [],
   "source": [
    "new_columns = [col.replace(\" \", \"_\").lower() for col in df.columns]\n",
    "df = df.toDF(*new_columns)"
   ]
  },
  {
   "cell_type": "code",
   "execution_count": 6,
   "id": "b8b90ebf-fab8-4f90-bc97-84ba20fd0df3",
   "metadata": {},
   "outputs": [
    {
     "name": "stdout",
     "output_type": "stream",
     "text": [
      "+-----------+----------+----------+------------+------+----+--------+----+-----------+------------+----------------+--------+-------+-----+------------------+--------------+-----+\n",
      "|artist_name|track_name|popularity|danceability|energy| key|loudness|mode|speechiness|acousticness|instrumentalness|liveness|valence|tempo|duration_in_min/ms|time_signature|class|\n",
      "+-----------+----------+----------+------------+------+----+--------+----+-----------+------------+----------------+--------+-------+-----+------------------+--------------+-----+\n",
      "|          0|         0|       428|           0|     0|2014|       0|   0|          0|           0|            4377|       0|      0|    0|                 0|             0|    0|\n",
      "+-----------+----------+----------+------------+------+----+--------+----+-----------+------------+----------------+--------+-------+-----+------------------+--------------+-----+\n",
      "\n"
     ]
    }
   ],
   "source": [
    "df.select([sum(col(c).isNull().cast(\"int\")).alias(c) for c in df.columns]).show()"
   ]
  },
  {
   "cell_type": "code",
   "execution_count": 7,
   "id": "1b2dce9a-e939-4538-b4f4-95a997f707f1",
   "metadata": {},
   "outputs": [],
   "source": [
    "df = df.withColumn(\n",
    "    \"duration_in_min/ms\",\n",
    "    when(col(\"duration_in_min/ms\") < 30, col(\"duration_in_min/ms\") * 60000)\n",
    "    .otherwise(col(\"duration_in_min/ms\"))\n",
    "    )\n",
    "columns_to_check=[col for col in df.columns if col != \"class\"]\n",
    "df = df.dropDuplicates(subset=columns_to_check)\n",
    "df = df.withColumn(\"popularity\", col(\"popularity\").cast(\"float\"))\n",
    "popularity_median = df.approxQuantile(\"popularity\", [0.5], 0.001)[0]\n",
    "instrumentalness_median = df.approxQuantile(\"instrumentalness\", [0.5], 0.001)[0]\n",
    "df = df.fillna({\"popularity\": popularity_median,\"instrumentalness\": instrumentalness_median})\n",
    "df = df.fillna({\"key\": -1})"
   ]
  },
  {
   "cell_type": "code",
   "execution_count": 8,
   "id": "dad62a61-bd8d-4f98-bf04-fcb36c837460",
   "metadata": {},
   "outputs": [],
   "source": [
    "columns = [\"artist_name\", \"track_name\"]\n",
    "indexers = [StringIndexer(inputCol=col, outputCol=col+\"_index\") for col in columns]\n",
    "pipeline = Pipeline(stages=indexers)\n",
    "df= pipeline.fit(df).transform(df)"
   ]
  },
  {
   "cell_type": "code",
   "execution_count": 9,
   "id": "cb0aac8c-b6ee-49b5-90b5-58a0c4630186",
   "metadata": {},
   "outputs": [],
   "source": [
    "epsilon = 1e-6\n",
    "\n",
    "# Biến đổi các cột để giảm skew\n",
    "df =df.withColumn(\"duration_in_ms_trans\", sqrt(col(\"duration_in_min/ms\")))\n",
    "df =df.withColumn(\"loudness_trans\", cbrt(col(\"loudness\")))\n",
    "df =df.withColumn(\"speechiness_trans\", expr(f\"1 / (speechiness + {epsilon})\"))\n",
    "df =df.withColumn(\"acousticness_trans\", cbrt(col(\"acousticness\")))\n",
    "df =df.withColumn(\"instrumentalness_trans\", log(col(\"instrumentalness\") + epsilon))\n",
    "df =df.withColumn(\"liveness_trans\", log(col(\"liveness\") + epsilon))\n",
    "df =df.withColumn(\"tempo_trans\", cbrt(col(\"tempo\")))"
   ]
  },
  {
   "cell_type": "code",
   "execution_count": 12,
   "id": "2e38f080-0304-49f0-9c18-53559c9a74b3",
   "metadata": {},
   "outputs": [
    {
     "name": "stdout",
     "output_type": "stream",
     "text": [
      "root\n",
      " |-- artist_name: string (nullable = true)\n",
      " |-- track_name: string (nullable = true)\n",
      " |-- popularity: float (nullable = false)\n",
      " |-- danceability: float (nullable = true)\n",
      " |-- energy: string (nullable = true)\n",
      " |-- key: double (nullable = false)\n",
      " |-- loudness: double (nullable = true)\n",
      " |-- mode: double (nullable = true)\n",
      " |-- speechiness: double (nullable = true)\n",
      " |-- acousticness: double (nullable = true)\n",
      " |-- instrumentalness: double (nullable = false)\n",
      " |-- liveness: double (nullable = true)\n",
      " |-- valence: double (nullable = true)\n",
      " |-- tempo: double (nullable = true)\n",
      " |-- duration_in_min/ms: double (nullable = true)\n",
      " |-- time_signature: double (nullable = true)\n",
      " |-- class: double (nullable = true)\n",
      " |-- artist_name_index: double (nullable = false)\n",
      " |-- track_name_index: double (nullable = false)\n",
      " |-- duration_in_ms_trans: double (nullable = true)\n",
      " |-- loudness_trans: double (nullable = true)\n",
      " |-- speechiness_trans: double (nullable = true)\n",
      " |-- acousticness_trans: double (nullable = true)\n",
      " |-- instrumentalness_trans: double (nullable = true)\n",
      " |-- liveness_trans: double (nullable = true)\n",
      " |-- tempo_trans: double (nullable = true)\n",
      "\n"
     ]
    }
   ],
   "source": [
    "df = df.withColumn(\"danceability\", col(\"danceability\").cast(\"float\"))\n",
    "df.printSchema()\n"
   ]
  },
  {
   "cell_type": "code",
   "execution_count": 13,
   "id": "15ce34a7-0523-4a4d-8eb7-30c9d450c864",
   "metadata": {},
   "outputs": [
    {
     "name": "stdout",
     "output_type": "stream",
     "text": [
      "+-------+-----+\n",
      "|  class|count|\n",
      "+-------+-----+\n",
      "|117.017|    1|\n",
      "|    4.0|  387|\n",
      "|    3.0|  402|\n",
      "|    7.0|  574|\n",
      "|    0.0|  625|\n",
      "|    1.0|  951|\n",
      "|    2.0| 1220|\n",
      "|    5.0| 1409|\n",
      "|    8.0| 1738|\n",
      "|    6.0| 2152|\n",
      "|    9.0| 2392|\n",
      "|   10.0| 4468|\n",
      "+-------+-----+\n",
      "\n"
     ]
    }
   ],
   "source": [
    "\n",
    "df.groupBy(\"class\").count().orderBy(\"count\").show()\n",
    "\n"
   ]
  },
  {
   "cell_type": "code",
   "execution_count": 14,
   "id": "29f98fa5-2515-4161-9bd7-44b150b89f2e",
   "metadata": {},
   "outputs": [
    {
     "name": "stdout",
     "output_type": "stream",
     "text": [
      "+-----+-----+\n",
      "|class|count|\n",
      "+-----+-----+\n",
      "|  4.0|  387|\n",
      "|  3.0|  402|\n",
      "|  7.0|  574|\n",
      "|  0.0|  625|\n",
      "|  1.0|  951|\n",
      "|  2.0| 1220|\n",
      "|  5.0| 1409|\n",
      "|  8.0| 1738|\n",
      "|  6.0| 2152|\n",
      "|  9.0| 2392|\n",
      "| 10.0| 4468|\n",
      "+-----+-----+\n",
      "\n"
     ]
    }
   ],
   "source": [
    "df_class= df.filter(df[\"class\"]!=117.017)\n",
    "df_final.groupBy(\"class\").count().orderBy(\"count\").show()"
   ]
  },
  {
   "cell_type": "code",
   "execution_count": 17,
   "id": "3a24ce22-eb96-4dec-bbd5-da42db9941a2",
   "metadata": {},
   "outputs": [
    {
     "name": "stdout",
     "output_type": "stream",
     "text": [
      "root\n",
      " |-- artist_name: string (nullable = true)\n",
      " |-- track_name: string (nullable = true)\n",
      " |-- popularity: float (nullable = false)\n",
      " |-- danceability: float (nullable = true)\n",
      " |-- energy: string (nullable = true)\n",
      " |-- key: double (nullable = false)\n",
      " |-- mode: double (nullable = true)\n",
      " |-- valence: double (nullable = true)\n",
      " |-- time_signature: double (nullable = true)\n",
      " |-- class: double (nullable = true)\n",
      " |-- artist_name_index: double (nullable = false)\n",
      " |-- track_name_index: double (nullable = false)\n",
      " |-- duration_in_ms_trans: double (nullable = true)\n",
      " |-- loudness_trans: double (nullable = true)\n",
      " |-- speechiness_trans: double (nullable = true)\n",
      " |-- acousticness_trans: double (nullable = true)\n",
      " |-- instrumentalness_trans: double (nullable = true)\n",
      " |-- liveness_trans: double (nullable = true)\n",
      " |-- tempo_trans: double (nullable = true)\n",
      "\n"
     ]
    }
   ],
   "source": [
    "df_final=df_final.drop(\"duration_in_min/ms\",\"loudness\",\"speechiness\",\"acousticness\",\"instrumentalness\",\"liveness\",\"tempo\")\n",
    "df_final.printSchema()"
   ]
  },
  {
   "cell_type": "code",
   "execution_count": 18,
   "id": "69b37e33-8108-4df5-b105-04e0bec24bef",
   "metadata": {},
   "outputs": [],
   "source": [
    "df_final.coalesce(1).write.mode(\"overwrite\").option(\"header\", \"true\").csv(\"hdfs://namenode:9000/data/data_clean_train.csv\")"
   ]
  },
  {
   "cell_type": "code",
   "execution_count": 21,
   "id": "300f0aa8-86d9-4d46-99a6-1f3cb7f049ee",
   "metadata": {},
   "outputs": [
    {
     "name": "stdout",
     "output_type": "stream",
     "text": [
      "root\n",
      " |-- artist_name: string (nullable = true)\n",
      " |-- track_name: string (nullable = true)\n",
      " |-- popularity: float (nullable = false)\n",
      " |-- danceability: float (nullable = true)\n",
      " |-- energy: string (nullable = true)\n",
      " |-- key: double (nullable = false)\n",
      " |-- mode: double (nullable = true)\n",
      " |-- valence: double (nullable = true)\n",
      " |-- time_signature: double (nullable = true)\n",
      " |-- class: double (nullable = true)\n",
      " |-- artist_name_index: double (nullable = false)\n",
      " |-- track_name_index: double (nullable = false)\n",
      " |-- duration_in_ms_trans: double (nullable = true)\n",
      " |-- loudness_trans: double (nullable = true)\n",
      " |-- speechiness_trans: double (nullable = true)\n",
      " |-- acousticness_trans: double (nullable = true)\n",
      " |-- instrumentalness_trans: double (nullable = true)\n",
      " |-- liveness_trans: double (nullable = true)\n",
      " |-- tempo_trans: double (nullable = true)\n",
      "\n"
     ]
    }
   ],
   "source": [
    "df_final.printSchema()"
   ]
  },
  {
   "cell_type": "code",
   "execution_count": 24,
   "id": "ddc70a09-ab08-4ae7-bdcd-25485dfe0076",
   "metadata": {},
   "outputs": [
    {
     "name": "stdout",
     "output_type": "stream",
     "text": [
      "root\n",
      " |-- popularity: float (nullable = false)\n",
      " |-- danceability: float (nullable = true)\n",
      " |-- energy: float (nullable = true)\n",
      " |-- key: double (nullable = false)\n",
      " |-- mode: double (nullable = true)\n",
      " |-- valence: double (nullable = true)\n",
      " |-- time_signature: double (nullable = true)\n",
      " |-- class: double (nullable = true)\n",
      " |-- artist_name_index: double (nullable = false)\n",
      " |-- track_name_index: double (nullable = false)\n",
      " |-- duration_in_ms_trans: double (nullable = true)\n",
      " |-- loudness_trans: double (nullable = true)\n",
      " |-- speechiness_trans: double (nullable = true)\n",
      " |-- acousticness_trans: double (nullable = true)\n",
      " |-- instrumentalness_trans: double (nullable = true)\n",
      " |-- liveness_trans: double (nullable = true)\n",
      " |-- tempo_trans: double (nullable = true)\n",
      "\n"
     ]
    }
   ],
   "source": [
    "df_final = df_final.withColumn(\"energy\", col(\"energy\").cast(\"float\"))\n",
    "df_train=df_final.drop(\"artist_name\",\"track_name\")\n",
    "df_train.printSchema()"
   ]
  },
  {
   "cell_type": "code",
   "execution_count": 25,
   "id": "8b1e56fc-4b1f-4521-b3c0-38bb3953b9bb",
   "metadata": {},
   "outputs": [],
   "source": [
    "from pyspark.ml.feature import VectorAssembler, StandardScaler \n",
    "from pyspark.ml.classification import GBTClassifier\n",
    "from pyspark.ml.evaluation import MulticlassClassificationEvaluator\n",
    "from pyspark.sql.functions import col\n",
    "feature_cols = [col for col in df_train.columns if col not in \"class\"]\n",
    "assembler = VectorAssembler(inputCols=feature_cols, outputCol=\"features_unscaled\")\n",
    "df_vec = assembler.transform(df_train)"
   ]
  },
  {
   "cell_type": "code",
   "execution_count": 26,
   "id": "566c14b9-c4df-4508-acc6-e0ba4ff29dd3",
   "metadata": {},
   "outputs": [],
   "source": [
    "scaler = StandardScaler(inputCol=\"features_unscaled\",outputCol=\"features\",withStd=True,withMean=True)\n",
    "scaler_model=scaler.fit(df_vec)\n",
    "df_scaled = scaler_model.transform(df_vec)"
   ]
  },
  {
   "cell_type": "code",
   "execution_count": 27,
   "id": "546a4783-a0a2-4464-94db-0b32bb129b98",
   "metadata": {},
   "outputs": [
    {
     "name": "stdout",
     "output_type": "stream",
     "text": [
      "+--------------------+\n",
      "|            features|\n",
      "+--------------------+\n",
      "|[-0.1173827908468...|\n",
      "|[0.51996184121788...|\n",
      "|[0.34614057792750...|\n",
      "|[-0.1753232119436...|\n",
      "|[-2.3191187925250...|\n",
      "+--------------------+\n",
      "only showing top 5 rows\n",
      "\n"
     ]
    }
   ],
   "source": [
    "df_scaled.select(\"features\").show(5)\n"
   ]
  },
  {
   "cell_type": "code",
   "execution_count": 11,
   "id": "d6bc15c2-d3e9-417f-ba17-33fb5d72e986",
   "metadata": {},
   "outputs": [
    {
     "name": "stdout",
     "output_type": "stream",
     "text": [
      "+-----+-----+\n",
      "|class|count|\n",
      "+-----+-----+\n",
      "|  4.0|  387|\n",
      "|  3.0|  402|\n",
      "|  7.0|  574|\n",
      "|  0.0|  625|\n",
      "|  1.0|  951|\n",
      "|  2.0| 1220|\n",
      "|  5.0| 1409|\n",
      "|  8.0| 1738|\n",
      "|  6.0| 2152|\n",
      "|  9.0| 2392|\n",
      "| 10.0| 4468|\n",
      "+-----+-----+\n",
      "\n",
      "+-----+\n",
      "|class|\n",
      "+-----+\n",
      "|  8.0|\n",
      "|  0.0|\n",
      "|  7.0|\n",
      "|  1.0|\n",
      "|  4.0|\n",
      "|  3.0|\n",
      "|  2.0|\n",
      "| 10.0|\n",
      "|  6.0|\n",
      "|  5.0|\n",
      "|  9.0|\n",
      "+-----+\n",
      "\n",
      "root\n",
      " |-- popularity: double (nullable = true)\n",
      " |-- key: double (nullable = true)\n",
      " |-- mode: double (nullable = true)\n",
      " |-- valence: double (nullable = true)\n",
      " |-- time_signature: double (nullable = true)\n",
      " |-- class: double (nullable = true)\n",
      " |-- duration_in_ms_trans: double (nullable = true)\n",
      " |-- loudness_trans: double (nullable = true)\n",
      " |-- speechiness_trans: double (nullable = true)\n",
      " |-- acousticness_trans: double (nullable = true)\n",
      " |-- instrumentalness_trans: double (nullable = true)\n",
      " |-- liveness_trans: double (nullable = true)\n",
      " |-- tempo_trans: double (nullable = true)\n",
      " |-- danceability_index: double (nullable = false)\n",
      " |-- features_unscaled: vector (nullable = true)\n",
      " |-- features: vector (nullable = true)\n",
      "\n"
     ]
    }
   ],
   "source": [
    "df_scaled.groupBy(\"class\").count().orderBy(\"count\").show()\n",
    "# Kiểm tra các giá trị duy nhất trong cột class\n",
    "df_scaled.select(\"class\").distinct().show()\n",
    "df_scaled.printSchema()"
   ]
  },
  {
   "cell_type": "code",
   "execution_count": 28,
   "id": "d838a637-ae10-4aff-95d1-7107c11311ed",
   "metadata": {},
   "outputs": [],
   "source": [
    "(training_data, testing_data) = df_scaled.randomSplit([0.7, 0.3], seed=42)"
   ]
  },
  {
   "cell_type": "code",
   "execution_count": 29,
   "id": "1f047202-ae0f-4ed5-b65a-822434b9b72f",
   "metadata": {},
   "outputs": [
    {
     "data": {
      "text/plain": [
       "DataFrame[popularity: float, danceability: float, energy: float, key: double, mode: double, valence: double, time_signature: double, class: double, artist_name_index: double, track_name_index: double, duration_in_ms_trans: double, loudness_trans: double, speechiness_trans: double, acousticness_trans: double, instrumentalness_trans: double, liveness_trans: double, tempo_trans: double, features_unscaled: vector, features: vector]"
      ]
     },
     "execution_count": 29,
     "metadata": {},
     "output_type": "execute_result"
    }
   ],
   "source": [
    "\n",
    "training_data.cache()"
   ]
  },
  {
   "cell_type": "code",
   "execution_count": 31,
   "id": "25e7de07-1398-492f-824e-62c495daa937",
   "metadata": {},
   "outputs": [
    {
     "name": "stdout",
     "output_type": "stream",
     "text": [
      "root\n",
      " |-- popularity: float (nullable = false)\n",
      " |-- danceability: float (nullable = true)\n",
      " |-- energy: float (nullable = true)\n",
      " |-- key: double (nullable = false)\n",
      " |-- mode: double (nullable = true)\n",
      " |-- valence: double (nullable = true)\n",
      " |-- time_signature: double (nullable = true)\n",
      " |-- class: double (nullable = true)\n",
      " |-- artist_name_index: double (nullable = false)\n",
      " |-- track_name_index: double (nullable = false)\n",
      " |-- duration_in_ms_trans: double (nullable = true)\n",
      " |-- loudness_trans: double (nullable = true)\n",
      " |-- speechiness_trans: double (nullable = true)\n",
      " |-- acousticness_trans: double (nullable = true)\n",
      " |-- instrumentalness_trans: double (nullable = true)\n",
      " |-- liveness_trans: double (nullable = true)\n",
      " |-- tempo_trans: double (nullable = true)\n",
      " |-- features_unscaled: vector (nullable = true)\n",
      " |-- features: vector (nullable = true)\n",
      "\n"
     ]
    }
   ],
   "source": [
    "training_data.printSchema()"
   ]
  },
  {
   "cell_type": "markdown",
   "id": "b6841353-64a4-4a88-9185-7a548d3e81f3",
   "metadata": {},
   "source": [
    " randomForestClassifier \n"
   ]
  },
  {
   "cell_type": "code",
   "execution_count": null,
   "id": "4b29c3a8-9c83-416c-b989-e4ff11bd9de2",
   "metadata": {},
   "outputs": [],
   "source": [
    " # train\n",
    "from pyspark.ml.classification import RandomForestClassifier\n",
    "\n",
    "rf = RandomForestClassifier(\n",
    "    labelCol=\"class\",\n",
    "    featuresCol=\"features\",\n",
    "    numTrees=80,\n",
    "    maxDepth=10,\n",
    "    seed=42\n",
    ")\n",
    "rf_model = rf.fit(training_data)\n",
    "rf_predictions = rf_model.transform(testing_data)"
   ]
  },
  {
   "cell_type": "code",
   "execution_count": 15,
   "id": "20293bfb-70b3-4f0e-9526-4fbdb9dfeb32",
   "metadata": {},
   "outputs": [
    {
     "name": "stdout",
     "output_type": "stream",
     "text": [
      "Random Forest Accuracy = 0.460559265442404\n"
     ]
    }
   ],
   "source": [
    "from pyspark.ml.evaluation import MulticlassClassificationEvaluator\n",
    "rf_evaluator = MulticlassClassificationEvaluator(\n",
    "    labelCol=\"class\", \n",
    "    predictionCol=\"prediction\", \n",
    "    metricName=\"accuracy\"\n",
    ")\n",
    "rf_accuracy = rf_evaluator.evaluate(rf_predictions)\n",
    "print(f\"Random Forest Accuracy = {rf_accuracy}\")"
   ]
  },
  {
   "cell_type": "code",
   "execution_count": 16,
   "id": "66f8ebf4-b791-4df4-8424-8206a7bccfcc",
   "metadata": {},
   "outputs": [
    {
     "name": "stdout",
     "output_type": "stream",
     "text": [
      "Random Forest F1 Score = 0.4098084333302436\n"
     ]
    }
   ],
   "source": [
    "rf_f1_evaluator = MulticlassClassificationEvaluator(\n",
    "    labelCol=\"class\", \n",
    "    predictionCol=\"prediction\", \n",
    "    metricName=\"f1\"\n",
    ")\n",
    "rf_f1 = rf_f1_evaluator.evaluate(rf_predictions)\n",
    "print(f\"Random Forest F1 Score = {rf_f1}\")"
   ]
  },
  {
   "cell_type": "code",
   "execution_count": 17,
   "id": "9178a919-226a-49a8-a4a6-87a0d3dda99b",
   "metadata": {},
   "outputs": [],
   "source": [
    "from pyspark.ml.classification import RandomForestClassifier, LogisticRegression, LinearSVC, NaiveBayes, OneVsRest\n",
    "from pyspark.ml.evaluation import MulticlassClassificationEvaluator\n",
    "from pyspark.ml.tuning import ParamGridBuilder, CrossValidator"
   ]
  },
  {
   "cell_type": "code",
   "execution_count": 18,
   "id": "f4b6873a-e1d9-4b90-af40-de43e15a1328",
   "metadata": {},
   "outputs": [],
   "source": [
    "# rf1 = RandomForestClassifier(labelCol=\"class\", featuresCol=\"features\")\n",
    "# paramGridrf = ParamGridBuilder() \\\n",
    "#         .addGrid(rf1.numTrees, [50, 100, 200]) \\\n",
    "#         .addGrid(rf1.maxDepth, [5, 10, 15]) \\\n",
    "#         .build()\n",
    "# cv1 = CrossValidator(\n",
    "#         estimator=rf1,\n",
    "#         estimatorParamMaps=paramGridrf,\n",
    "#         evaluator=MulticlassClassificationEvaluator(labelCol=\"class\", predictionCol=\"prediction\", metricName=\"accuracy\"),\n",
    "#         numFolds=3\n",
    "#     )\n",
    "\n",
    "# cv_model = cv1.fit(training_data)\n",
    "# best_rf_model = cv_model.bestModel\n",
    "# best_predictions = best_rf_model.transform(testing_data)\n",
    "# best_accuracy = rf_evaluator.evaluate(best_predictions)\n",
    "# print(f\"Random Forest tối ưu - Accuracy: {best_accuracy:.4f}\")"
   ]
  },
  {
   "cell_type": "code",
   "execution_count": null,
   "id": "b114ac1d-572a-48cc-830f-81275802eca4",
   "metadata": {},
   "outputs": [],
   "source": []
  }
 ],
 "metadata": {
  "kernelspec": {
   "display_name": "Python 3 (ipykernel)",
   "language": "python",
   "name": "python3"
  },
  "language_info": {
   "codemirror_mode": {
    "name": "ipython",
    "version": 3
   },
   "file_extension": ".py",
   "mimetype": "text/x-python",
   "name": "python",
   "nbconvert_exporter": "python",
   "pygments_lexer": "ipython3",
   "version": "3.11.4"
  }
 },
 "nbformat": 4,
 "nbformat_minor": 5
}
