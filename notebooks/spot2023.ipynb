{
 "cells": [
  {
   "cell_type": "code",
   "execution_count": 1,
   "id": "3f39ae10-8671-452d-a276-57ad89aa4815",
   "metadata": {},
   "outputs": [
    {
     "name": "stdout",
     "output_type": "stream",
     "text": [
      "Requirement already satisfied: pyspark in /usr/local/spark/python (3.4.0)\n",
      "Requirement already satisfied: findspark in /opt/conda/lib/python3.11/site-packages (2.0.1)\n",
      "Requirement already satisfied: py4j==0.10.9.7 in /opt/conda/lib/python3.11/site-packages (from pyspark) (0.10.9.7)\n"
     ]
    }
   ],
   "source": [
    "!pip install pyspark findspark"
   ]
  },
  {
   "cell_type": "code",
   "execution_count": 15,
   "id": "29ed96cb-99de-45e2-85d8-e94cc8f69483",
   "metadata": {},
   "outputs": [],
   "source": [
    "def warn(*args, **kwargs):\n",
    "    pass\n",
    "import warnings\n",
    "warnings.warn = warn\n",
    "warnings.filterwarnings('ignore')\n",
    "import findspark\n",
    "findspark.init()"
   ]
  },
  {
   "cell_type": "code",
   "execution_count": 3,
   "id": "dd1a9f76-032a-48c5-adeb-a01ebe741be4",
   "metadata": {},
   "outputs": [
    {
     "name": "stdout",
     "output_type": "stream",
     "text": [
      "hello nam\n"
     ]
    }
   ],
   "source": [
    "print(\"hello nam\")"
   ]
  },
  {
   "cell_type": "code",
   "execution_count": 1,
   "id": "726fdb10-f3b5-4a68-a3f0-e35ad7824b76",
   "metadata": {},
   "outputs": [],
   "source": [
    "from pyspark.ml.classification import RandomForestClassificationModel\n",
    "from pyspark.sql import SparkSession\n",
    "\n",
    "# Khởi tạo SparkSession\n",
    "spark = SparkSession.builder.appName(\"rfmodel\").master(\"spark://spark-master:7077\").getOrCreate()\n"
   ]
  },
  {
   "cell_type": "code",
   "execution_count": 2,
   "id": "eb0bf569-089c-4d93-b773-f0e210d9cf69",
   "metadata": {},
   "outputs": [],
   "source": [
    "df = spark.read.csv(\"hdfs://namenode:9000/data/spotify_data_2023.csv\", header=True, inferSchema=True)\n",
    "df.cache()\n",
    "model_path = \"hdfs://namenode:9000/model/random_forest_model\"\n",
    "rf_model = RandomForestClassificationModel.load(model_path)"
   ]
  },
  {
   "cell_type": "code",
   "execution_count": 5,
   "id": "a998e426-b0db-4be8-998c-131f75f1a537",
   "metadata": {},
   "outputs": [],
   "source": [
    "selected_columns = [\n",
    "    \"acousticness\",\n",
    "    \"danceability\",\n",
    "    \"duration_ms\",\n",
    "    \"energy\",\n",
    "    \"instrumentalness\",\n",
    "    \"liveness\",\n",
    "    \"loudness\",\n",
    "    \"mode\",\n",
    "    \"speechiness\",\n",
    "    \"tempo\",\n",
    "    \"key\",\n",
    "    \"time_signature\",\n",
    "    \"valence\",\n",
    "    \"release_year\",\n",
    "    \"release_month\",\n",
    "    \"followers\"\n",
    "]\n",
    "df=df.select(*selected_columns)"
   ]
  },
  {
   "cell_type": "code",
   "execution_count": 6,
   "id": "e7d61cfb-7df2-4535-9e4f-dfc1dfac32f8",
   "metadata": {},
   "outputs": [
    {
     "name": "stdout",
     "output_type": "stream",
     "text": [
      "root\n",
      " |-- acousticness: string (nullable = true)\n",
      " |-- danceability: string (nullable = true)\n",
      " |-- duration_ms: string (nullable = true)\n",
      " |-- energy: string (nullable = true)\n",
      " |-- instrumentalness: string (nullable = true)\n",
      " |-- liveness: string (nullable = true)\n",
      " |-- loudness: string (nullable = true)\n",
      " |-- mode: string (nullable = true)\n",
      " |-- speechiness: string (nullable = true)\n",
      " |-- tempo: double (nullable = true)\n",
      " |-- key: string (nullable = true)\n",
      " |-- time_signature: string (nullable = true)\n",
      " |-- valence: string (nullable = true)\n",
      " |-- release_year: string (nullable = true)\n",
      " |-- release_month: string (nullable = true)\n",
      " |-- followers: string (nullable = true)\n",
      "\n"
     ]
    }
   ],
   "source": [
    "df.printSchema()"
   ]
  },
  {
   "cell_type": "code",
   "execution_count": 3,
   "id": "4a09f43b-3c9c-4b7d-886c-f0681aa5560b",
   "metadata": {},
   "outputs": [],
   "source": [
    "df_202x=df.filter((df[\"release_year\"]==\"2023\") | (df[\"release_year\"]==\"2022\"))\n"
   ]
  },
  {
   "cell_type": "code",
   "execution_count": 4,
   "id": "510172df-9dd7-462c-8275-4e18bcc07765",
   "metadata": {},
   "outputs": [
    {
     "data": {
      "text/plain": [
       "95239"
      ]
     },
     "execution_count": 4,
     "metadata": {},
     "output_type": "execute_result"
    }
   ],
   "source": [
    "df_202x.cache()\n",
    "df_202x.count()"
   ]
  },
  {
   "cell_type": "code",
   "execution_count": 10,
   "id": "f772b2a4-d2c8-425d-81ce-5b8e8f9b314c",
   "metadata": {},
   "outputs": [
    {
     "data": {
      "text/plain": [
       "DataFrame[acousticness: string, danceability: string, duration_ms: string, energy: string, instrumentalness: string, liveness: string, loudness: string, mode: string, speechiness: string, tempo: double, key: string, time_signature: string, valence: string, release_year: string, release_month: string, followers: string]"
      ]
     },
     "execution_count": 10,
     "metadata": {},
     "output_type": "execute_result"
    }
   ],
   "source": []
  },
  {
   "cell_type": "code",
   "execution_count": 5,
   "id": "6e4e8cb6-37c2-4a08-b38d-0c98befe43c8",
   "metadata": {},
   "outputs": [
    {
     "data": {
      "text/plain": [
       "95239"
      ]
     },
     "execution_count": 5,
     "metadata": {},
     "output_type": "execute_result"
    }
   ],
   "source": [
    "from pyspark.sql.functions import when, col\n",
    "cols_to_cast = [\n",
    "    \"acousticness\", \"danceability\", \"duration_ms\", \"energy\", \"instrumentalness\",\n",
    "    \"liveness\", \"loudness\", \"mode\", \"speechiness\", \"tempo\", \"key\", \n",
    "    \"time_signature\", \"valence\", \"release_year\", \"followers\"\n",
    "]\n",
    "df_test = df_202x.select(*[col(c).cast(\"double\").alias(c) for c in cols_to_cast ],col(\"release_month\"))\n",
    "df_test.count()"
   ]
  },
  {
   "cell_type": "code",
   "execution_count": 13,
   "id": "7c292d03-b0a1-49af-aac5-fc52fe099994",
   "metadata": {},
   "outputs": [
    {
     "data": {
      "text/plain": [
       "375141"
      ]
     },
     "execution_count": 13,
     "metadata": {},
     "output_type": "execute_result"
    }
   ],
   "source": []
  },
  {
   "cell_type": "code",
   "execution_count": 6,
   "id": "d8a340c3-96c3-4cd4-83ff-2f3eb84be212",
   "metadata": {},
   "outputs": [
    {
     "data": {
      "text/plain": [
       "84928"
      ]
     },
     "execution_count": 6,
     "metadata": {},
     "output_type": "execute_result"
    }
   ],
   "source": [
    "df_min = df_test.filter((df_test[\"duration_ms\"] > 80000) & (df_test[\"duration_ms\"] < 360000))\n",
    "df_min.count()\n"
   ]
  },
  {
   "cell_type": "code",
   "execution_count": 14,
   "id": "a34c4241-3215-4e18-a1e7-68eb2d2567b7",
   "metadata": {},
   "outputs": [
    {
     "name": "stdout",
     "output_type": "stream",
     "text": [
      "+------------------+------------------+-----------------+------------+----------------------+--------------+--------------+----------+-----------------+-----------+---------+--------------------+-------------+------------------+---------------+-------------------+\n",
      "|acousticness_nulls|danceability_nulls|duration_ms_nulls|energy_nulls|instrumentalness_nulls|liveness_nulls|loudness_nulls|mode_nulls|speechiness_nulls|tempo_nulls|key_nulls|time_signature_nulls|valence_nulls|release_year_nulls|followers_nulls|release_month_nulls|\n",
      "+------------------+------------------+-----------------+------------+----------------------+--------------+--------------+----------+-----------------+-----------+---------+--------------------+-------------+------------------+---------------+-------------------+\n",
      "|                 0|                 0|                0|           0|                     0|             0|             0|         0|                0|          0|        0|                   0|            0|                22|              0|                 22|\n",
      "+------------------+------------------+-----------------+------------+----------------------+--------------+--------------+----------+-----------------+-----------+---------+--------------------+-------------+------------------+---------------+-------------------+\n",
      "\n"
     ]
    }
   ],
   "source": [
    "from pyspark.sql.functions import col, sum\n",
    "\n",
    "df_null=df_min.select([sum(col(c).isNull().cast(\"int\")).alias(c + \"_nulls\") for c in df_min.columns]).show()\n"
   ]
  },
  {
   "cell_type": "code",
   "execution_count": 7,
   "id": "c2596fdf-de6e-4ac9-a051-578f15721888",
   "metadata": {},
   "outputs": [],
   "source": [
    "# months = [\"January\", \"February\", \"March\", \"April\", \"May\", \"June\",\n",
    "#           \"July\", \"August\", \"September\", \"October\", \"November\", \"December\"]\n",
    "\n",
    "# df_by_month_name = [df_min.filter(col(\"release_month\") == m) for m in months]\n",
    "df_min=df_min.filter(df_min[\"followers\"]>100)"
   ]
  },
  {
   "cell_type": "code",
   "execution_count": 8,
   "id": "335d16dc-e570-43bc-9a4d-cff9ccc1a99a",
   "metadata": {},
   "outputs": [
    {
     "name": "stdout",
     "output_type": "stream",
     "text": [
      "root\n",
      " |-- acousticness: double (nullable = true)\n",
      " |-- danceability: double (nullable = true)\n",
      " |-- duration_ms: double (nullable = true)\n",
      " |-- energy: double (nullable = true)\n",
      " |-- instrumentalness: double (nullable = true)\n",
      " |-- liveness: double (nullable = true)\n",
      " |-- loudness: double (nullable = true)\n",
      " |-- mode: double (nullable = true)\n",
      " |-- speechiness: double (nullable = true)\n",
      " |-- tempo: double (nullable = true)\n",
      " |-- key: double (nullable = true)\n",
      " |-- time_signature: double (nullable = true)\n",
      " |-- valence: double (nullable = true)\n",
      " |-- release_year: double (nullable = true)\n",
      " |-- followers: double (nullable = true)\n",
      " |-- release_month: string (nullable = true)\n",
      "\n"
     ]
    }
   ],
   "source": [
    "\n",
    "# feature_cols = [col for col in df.columns if col not in \"class\"]\n",
    "# assembler = VectorAssembler(inputCols=feature_cols, outputCol=\"features_unscaled\")\n",
    "# df_vec = assembler.transform(df_test)\n",
    "# scaler = StandardScaler(inputCol=\"features_unscaled\",outputCol=\"features\",withStd=True,withMean=True)\n",
    "# scaler_model=scaler.fit(df_vec)\n",
    "# df_scaled = scaler_model.transform(df_vec)\n",
    "df_min.printSchema()"
   ]
  },
  {
   "cell_type": "code",
   "execution_count": 9,
   "id": "db9dafe5-9b1c-4117-b902-a42bddc0d726",
   "metadata": {},
   "outputs": [],
   "source": [
    "from pyspark.ml.feature import VectorAssembler, StandardScaler \n",
    "from pyspark.sql.functions import col\n",
    "feature_cols=[col for col in df_min.columns if col not in [\"followers\",\"release_month\",\"release_year\"]]\n",
    "assembler = VectorAssembler(inputCols=feature_cols, outputCol=\"features_unscaled\")\n",
    "df_vec = assembler.transform(df_min)\n",
    "scaler = StandardScaler(inputCol=\"features_unscaled\",outputCol=\"features\",withStd=True,withMean=True)\n",
    "scaler_model=scaler.fit(df_vec)\n",
    "df_scaled = scaler_model.transform(df_vec)\n",
    "    "
   ]
  },
  {
   "cell_type": "code",
   "execution_count": 18,
   "id": "bfb4f888-9b27-492f-b9d9-1179dd5099c2",
   "metadata": {},
   "outputs": [
    {
     "name": "stdout",
     "output_type": "stream",
     "text": [
      "13\n"
     ]
    }
   ],
   "source": [
    "print(len(assembler.getInputCols()))\n"
   ]
  },
  {
   "cell_type": "code",
   "execution_count": 10,
   "id": "ce4530c2-fb9a-44fa-87ad-4912f8f79701",
   "metadata": {},
   "outputs": [
    {
     "name": "stdout",
     "output_type": "stream",
     "text": [
      "+----------+\n",
      "|prediction|\n",
      "+----------+\n",
      "|      10.0|\n",
      "|       6.0|\n",
      "|       6.0|\n",
      "|       9.0|\n",
      "|      10.0|\n",
      "|       6.0|\n",
      "|       9.0|\n",
      "|       9.0|\n",
      "|       6.0|\n",
      "|       5.0|\n",
      "|      10.0|\n",
      "|       6.0|\n",
      "|       6.0|\n",
      "|       5.0|\n",
      "|      10.0|\n",
      "|       5.0|\n",
      "|       6.0|\n",
      "|       5.0|\n",
      "|       6.0|\n",
      "|       9.0|\n",
      "+----------+\n",
      "only showing top 20 rows\n",
      "\n"
     ]
    }
   ],
   "source": [
    "predictions = rf_model.transform(df_scaled)\n",
    "predictions.select(\"prediction\").show()"
   ]
  },
  {
   "cell_type": "code",
   "execution_count": 24,
   "id": "c08ce385-383b-4c59-90f0-aa6dca29496c",
   "metadata": {},
   "outputs": [
    {
     "data": {
      "text/plain": [
       "273677"
      ]
     },
     "execution_count": 24,
     "metadata": {},
     "output_type": "execute_result"
    }
   ],
   "source": [
    "df_min.count()"
   ]
  },
  {
   "cell_type": "code",
   "execution_count": 11,
   "id": "3f943075-c618-496e-9dea-d957f3496ae5",
   "metadata": {},
   "outputs": [
    {
     "name": "stdout",
     "output_type": "stream",
     "text": [
      "+----------+-----+\n",
      "|prediction|count|\n",
      "+----------+-----+\n",
      "|       0.0|   60|\n",
      "|       7.0|   94|\n",
      "|       1.0|  180|\n",
      "|       2.0|  353|\n",
      "|       3.0|  703|\n",
      "|       8.0| 2071|\n",
      "|       9.0| 2997|\n",
      "|       6.0|11406|\n",
      "|      10.0|16891|\n",
      "|       5.0|23897|\n",
      "+----------+-----+\n",
      "\n",
      "root\n",
      " |-- acousticness: double (nullable = true)\n",
      " |-- danceability: double (nullable = true)\n",
      " |-- duration_ms: double (nullable = true)\n",
      " |-- energy: double (nullable = true)\n",
      " |-- instrumentalness: double (nullable = true)\n",
      " |-- liveness: double (nullable = true)\n",
      " |-- loudness: double (nullable = true)\n",
      " |-- mode: double (nullable = true)\n",
      " |-- speechiness: double (nullable = true)\n",
      " |-- tempo: double (nullable = true)\n",
      " |-- key: double (nullable = true)\n",
      " |-- time_signature: double (nullable = true)\n",
      " |-- valence: double (nullable = true)\n",
      " |-- release_year: double (nullable = true)\n",
      " |-- followers: double (nullable = true)\n",
      " |-- release_month: string (nullable = true)\n",
      " |-- features_unscaled: vector (nullable = true)\n",
      " |-- features: vector (nullable = true)\n",
      " |-- rawPrediction: vector (nullable = true)\n",
      " |-- probability: vector (nullable = true)\n",
      " |-- prediction: double (nullable = false)\n",
      "\n"
     ]
    }
   ],
   "source": [
    "predictions.groupBy(\"prediction\").count().orderBy(\"count\").show()\n",
    "predictions.printSchema()"
   ]
  },
  {
   "cell_type": "code",
   "execution_count": 12,
   "id": "6bdee484-599d-4867-9f4d-6e566d1d56d1",
   "metadata": {},
   "outputs": [],
   "source": [
    "predictions_final= predictions.drop(\"features_unscaled\",\"features\",\"rawPrediction\",\"probability\")"
   ]
  },
  {
   "cell_type": "code",
   "execution_count": 13,
   "id": "1097ca2a-da8c-4b96-a8ad-fa134658ca4b",
   "metadata": {},
   "outputs": [],
   "source": [
    "predictions_final.coalesce(1).write.mode(\"overwrite\").option(\"header\", \"true\").csv(\"hdfs://namenode:9000/data/prediction.csv\")\n"
   ]
  },
  {
   "cell_type": "code",
   "execution_count": null,
   "id": "b20d8c23-f191-4608-82ee-8e99de077bb6",
   "metadata": {},
   "outputs": [],
   "source": []
  },
  {
   "cell_type": "code",
   "execution_count": 27,
   "id": "5e0971b1-21ff-4126-bc23-4331d5680d93",
   "metadata": {},
   "outputs": [
    {
     "name": "stdout",
     "output_type": "stream",
     "text": [
      "+------------+------------+-----------+------+----------------+--------+--------+----+-----------+-------+---+--------------+-------+------------+---------+-------------+----------+\n",
      "|acousticness|danceability|duration_ms|energy|instrumentalness|liveness|loudness|mode|speechiness|  tempo|key|time_signature|valence|release_year|followers|release_month|prediction|\n",
      "+------------+------------+-----------+------+----------------+--------+--------+----+-----------+-------+---+--------------+-------+------------+---------+-------------+----------+\n",
      "|       0.963|       0.594|   320707.0| 0.407|           0.235|  0.0819|  -9.166| 1.0|     0.0499|179.469|0.0|           4.0|  0.359|      2012.0|    126.0|      January|       5.0|\n",
      "|     0.00108|       0.695|   195938.0| 0.861|           0.808|  0.0862|  -3.726| 1.0|     0.0282|128.005|0.0|           3.0|  0.504|      2020.0|    184.0|         June|       5.0|\n",
      "|     0.00287|       0.566|   183080.0| 0.865|         1.86E-4|   0.171|  -9.088| 0.0|     0.0849|112.444|9.0|           4.0|  0.355|      2006.0|    548.0|      January|       6.0|\n",
      "|      0.0424|       0.326|    91240.0| 0.434|           0.167|   0.204| -13.663| 1.0|     0.0437|113.337|2.0|           4.0|  0.315|      2017.0|    166.0|     December|       5.0|\n",
      "|     9.95E-4|       0.455|   217853.0| 0.878|             0.0|   0.364|  -5.642| 0.0|     0.0375| 90.007|0.0|           4.0|  0.726|      2017.0|    520.0|     February|       8.0|\n",
      "+------------+------------+-----------+------+----------------+--------+--------+----+-----------+-------+---+--------------+-------+------------+---------+-------------+----------+\n",
      "only showing top 5 rows\n",
      "\n"
     ]
    }
   ],
   "source": [
    "predictions_final.show(5)"
   ]
  },
  {
   "cell_type": "code",
   "execution_count": null,
   "id": "62c3cbc9-127d-4d64-8780-f60f316abb96",
   "metadata": {},
   "outputs": [],
   "source": []
  }
 ],
 "metadata": {
  "kernelspec": {
   "display_name": "Python 3 (ipykernel)",
   "language": "python",
   "name": "python3"
  },
  "language_info": {
   "codemirror_mode": {
    "name": "ipython",
    "version": 3
   },
   "file_extension": ".py",
   "mimetype": "text/x-python",
   "name": "python",
   "nbconvert_exporter": "python",
   "pygments_lexer": "ipython3",
   "version": "3.11.4"
  }
 },
 "nbformat": 4,
 "nbformat_minor": 5
}
